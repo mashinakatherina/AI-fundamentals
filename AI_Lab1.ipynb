{
  "nbformat": 4,
  "nbformat_minor": 0,
  "metadata": {
    "colab": {
      "provenance": [],
      "collapsed_sections": []
    },
    "kernelspec": {
      "name": "python3",
      "display_name": "Python 3"
    },
    "language_info": {
      "name": "python"
    }
  },
  "cells": [
    {
      "cell_type": "code",
      "source": [
        "import pandas as pd\n",
        "import numpy as np\n",
        "from matplotlib import pyplot as plt\n",
        "import seaborn as sns\n",
        "from sklearn.ensemble import RandomForestRegressor"
      ],
      "metadata": {
        "id": "xKPQe31zb4fm"
      },
      "execution_count": 1,
      "outputs": []
    },
    {
      "cell_type": "code",
      "execution_count": 3,
      "metadata": {
        "colab": {
          "base_uri": "https://localhost:8080/",
          "height": 713
        },
        "id": "exXCGsNvZksJ",
        "outputId": "3b48bfc5-848c-4979-b885-a6ffb3d367b4"
      },
      "outputs": [
        {
          "output_type": "execute_result",
          "data": {
            "text/plain": [
              "           Глубина манометра    Dшт   Руст      Рзаб       Pлин  Руст.1  \\\n",
              "2008-06-05            3576.3   7.94  249.6     370.1      101.8   249.0   \n",
              "2008-06-06            3576.3   9.53  233.5     364.6      101.3   231.0   \n",
              "2008-06-07            3576.3  11.11  213.4     357.1      101.6   211.0   \n",
              "2008-06-08            3576.3  12.70  191.6     347.4       98.4   187.0   \n",
              "2008-06-09            3576.3  14.29  171.9     337.7       99.2   169.0   \n",
              "...                      ...    ...    ...       ...        ...     ...   \n",
              "2009-09-23              3678  12.70  182.2   271.586  93.255111   179.0   \n",
              "2009-09-27              3678  14.29  157.0   249.076  96.472143   153.0   \n",
              "2010-04-09            3679.5   7.94  211.9  289.3877  91.131226   208.0   \n",
              "2010-04-14            3679.5   9.53  204.0  282.8709  91.173008   201.0   \n",
              "2010-04-17            3679.5  11.11  187.5  267.4787  91.530262   184.0   \n",
              "\n",
              "           Рзаб.1        Рлин  Туст Тна шлейфе  ... Рпл. Тек (Расчет по КВД)  \\\n",
              "2008-06-05  359.6       101.8  53.0       31.7  ...                     56.5   \n",
              "2008-06-06  338.1       102.4  58.8       37.6  ...                     56.5   \n",
              "2008-06-07  314.8       100.6  63.6       42.8  ...                     56.5   \n",
              "2008-06-08  291.5          99  64.7       46.2  ...                     56.5   \n",
              "2008-06-09  270.3        99.5  64.0       49.4  ...                     56.5   \n",
              "...           ...         ...   ...        ...  ...                      ...   \n",
              "2009-09-23  258.6   92.702141  55.6       41.8  ...                     60.9   \n",
              "2009-09-27  233.5  100.060417  56.7       47.6  ...                     60.9   \n",
              "2010-04-09  289.6   91.304642  47.0       24.4  ...                     64.1   \n",
              "2010-04-14  275.3   91.616821  48.9       26.7  ...                     64.1   \n",
              "2010-04-17    255   89.507935  53.5       33.3  ...                     64.1   \n",
              "\n",
              "           Рпл. Тек (Карноухов)   Pсб      Pсб.1      Ro_g   Ro_c    Ro_w  \\\n",
              "2008-06-05                    -  93.6  92.376018  0.806017  801.0  1000.0   \n",
              "2008-06-06                    -  92.9  91.685171  0.806017  801.0  1000.0   \n",
              "2008-06-07                    -  91.4  90.204787  0.806017  801.0  1000.0   \n",
              "2008-06-08                    -  89.2  88.033555  0.806017  801.0  1000.0   \n",
              "2008-06-09                    -  89.7  88.527017  0.806017  801.0  1000.0   \n",
              "...                         ...   ...        ...       ...    ...     ...   \n",
              "2009-09-23                 60.8  89.7  88.527017       NaN    NaN     NaN   \n",
              "2009-09-27                 60.8  87.3  86.158401       NaN    NaN     NaN   \n",
              "2010-04-09                 61.3  88.2  87.046632       NaN    NaN     NaN   \n",
              "2010-04-14                 61.3  88.5  87.342709       NaN    NaN     NaN   \n",
              "2010-04-17                 61.3  89.8  88.625709       NaN    NaN     NaN   \n",
              "\n",
              "           Удельная плотность газа    G_total       КГФ  \n",
              "2008-06-05                 0.669449  2.782623  0.311909  \n",
              "2008-06-06                 0.669449  3.697781  0.288600  \n",
              "2008-06-07                 0.669449  4.515073  0.248791  \n",
              "2008-06-08                 0.669449  5.217673  0.223559  \n",
              "2008-06-09                 0.669449  5.765092  0.215149  \n",
              "...                             ...       ...       ...  \n",
              "2009-09-23                      NaN       NaN       NaN  \n",
              "2009-09-27                      NaN       NaN       NaN  \n",
              "2010-04-09                      NaN       NaN       NaN  \n",
              "2010-04-14                      NaN       NaN       NaN  \n",
              "2010-04-17                      NaN       NaN       NaN  \n",
              "\n",
              "[185 rows x 31 columns]"
            ],
            "text/html": [
              "\n",
              "  <div id=\"df-579c9201-7677-49fb-a5d2-6b1603fd85ce\">\n",
              "    <div class=\"colab-df-container\">\n",
              "      <div>\n",
              "<style scoped>\n",
              "    .dataframe tbody tr th:only-of-type {\n",
              "        vertical-align: middle;\n",
              "    }\n",
              "\n",
              "    .dataframe tbody tr th {\n",
              "        vertical-align: top;\n",
              "    }\n",
              "\n",
              "    .dataframe thead th {\n",
              "        text-align: right;\n",
              "    }\n",
              "</style>\n",
              "<table border=\"1\" class=\"dataframe\">\n",
              "  <thead>\n",
              "    <tr style=\"text-align: right;\">\n",
              "      <th></th>\n",
              "      <th>Глубина манометра</th>\n",
              "      <th>Dшт</th>\n",
              "      <th>Руст</th>\n",
              "      <th>Рзаб</th>\n",
              "      <th>Pлин</th>\n",
              "      <th>Руст.1</th>\n",
              "      <th>Рзаб.1</th>\n",
              "      <th>Рлин</th>\n",
              "      <th>Туст</th>\n",
              "      <th>Тна шлейфе</th>\n",
              "      <th>...</th>\n",
              "      <th>Рпл. Тек (Расчет по КВД)</th>\n",
              "      <th>Рпл. Тек (Карноухов)</th>\n",
              "      <th>Pсб</th>\n",
              "      <th>Pсб.1</th>\n",
              "      <th>Ro_g</th>\n",
              "      <th>Ro_c</th>\n",
              "      <th>Ro_w</th>\n",
              "      <th>Удельная плотность газа</th>\n",
              "      <th>G_total</th>\n",
              "      <th>КГФ</th>\n",
              "    </tr>\n",
              "  </thead>\n",
              "  <tbody>\n",
              "    <tr>\n",
              "      <th>2008-06-05</th>\n",
              "      <td>3576.3</td>\n",
              "      <td>7.94</td>\n",
              "      <td>249.6</td>\n",
              "      <td>370.1</td>\n",
              "      <td>101.8</td>\n",
              "      <td>249.0</td>\n",
              "      <td>359.6</td>\n",
              "      <td>101.8</td>\n",
              "      <td>53.0</td>\n",
              "      <td>31.7</td>\n",
              "      <td>...</td>\n",
              "      <td>56.5</td>\n",
              "      <td>-</td>\n",
              "      <td>93.6</td>\n",
              "      <td>92.376018</td>\n",
              "      <td>0.806017</td>\n",
              "      <td>801.0</td>\n",
              "      <td>1000.0</td>\n",
              "      <td>0.669449</td>\n",
              "      <td>2.782623</td>\n",
              "      <td>0.311909</td>\n",
              "    </tr>\n",
              "    <tr>\n",
              "      <th>2008-06-06</th>\n",
              "      <td>3576.3</td>\n",
              "      <td>9.53</td>\n",
              "      <td>233.5</td>\n",
              "      <td>364.6</td>\n",
              "      <td>101.3</td>\n",
              "      <td>231.0</td>\n",
              "      <td>338.1</td>\n",
              "      <td>102.4</td>\n",
              "      <td>58.8</td>\n",
              "      <td>37.6</td>\n",
              "      <td>...</td>\n",
              "      <td>56.5</td>\n",
              "      <td>-</td>\n",
              "      <td>92.9</td>\n",
              "      <td>91.685171</td>\n",
              "      <td>0.806017</td>\n",
              "      <td>801.0</td>\n",
              "      <td>1000.0</td>\n",
              "      <td>0.669449</td>\n",
              "      <td>3.697781</td>\n",
              "      <td>0.288600</td>\n",
              "    </tr>\n",
              "    <tr>\n",
              "      <th>2008-06-07</th>\n",
              "      <td>3576.3</td>\n",
              "      <td>11.11</td>\n",
              "      <td>213.4</td>\n",
              "      <td>357.1</td>\n",
              "      <td>101.6</td>\n",
              "      <td>211.0</td>\n",
              "      <td>314.8</td>\n",
              "      <td>100.6</td>\n",
              "      <td>63.6</td>\n",
              "      <td>42.8</td>\n",
              "      <td>...</td>\n",
              "      <td>56.5</td>\n",
              "      <td>-</td>\n",
              "      <td>91.4</td>\n",
              "      <td>90.204787</td>\n",
              "      <td>0.806017</td>\n",
              "      <td>801.0</td>\n",
              "      <td>1000.0</td>\n",
              "      <td>0.669449</td>\n",
              "      <td>4.515073</td>\n",
              "      <td>0.248791</td>\n",
              "    </tr>\n",
              "    <tr>\n",
              "      <th>2008-06-08</th>\n",
              "      <td>3576.3</td>\n",
              "      <td>12.70</td>\n",
              "      <td>191.6</td>\n",
              "      <td>347.4</td>\n",
              "      <td>98.4</td>\n",
              "      <td>187.0</td>\n",
              "      <td>291.5</td>\n",
              "      <td>99</td>\n",
              "      <td>64.7</td>\n",
              "      <td>46.2</td>\n",
              "      <td>...</td>\n",
              "      <td>56.5</td>\n",
              "      <td>-</td>\n",
              "      <td>89.2</td>\n",
              "      <td>88.033555</td>\n",
              "      <td>0.806017</td>\n",
              "      <td>801.0</td>\n",
              "      <td>1000.0</td>\n",
              "      <td>0.669449</td>\n",
              "      <td>5.217673</td>\n",
              "      <td>0.223559</td>\n",
              "    </tr>\n",
              "    <tr>\n",
              "      <th>2008-06-09</th>\n",
              "      <td>3576.3</td>\n",
              "      <td>14.29</td>\n",
              "      <td>171.9</td>\n",
              "      <td>337.7</td>\n",
              "      <td>99.2</td>\n",
              "      <td>169.0</td>\n",
              "      <td>270.3</td>\n",
              "      <td>99.5</td>\n",
              "      <td>64.0</td>\n",
              "      <td>49.4</td>\n",
              "      <td>...</td>\n",
              "      <td>56.5</td>\n",
              "      <td>-</td>\n",
              "      <td>89.7</td>\n",
              "      <td>88.527017</td>\n",
              "      <td>0.806017</td>\n",
              "      <td>801.0</td>\n",
              "      <td>1000.0</td>\n",
              "      <td>0.669449</td>\n",
              "      <td>5.765092</td>\n",
              "      <td>0.215149</td>\n",
              "    </tr>\n",
              "    <tr>\n",
              "      <th>...</th>\n",
              "      <td>...</td>\n",
              "      <td>...</td>\n",
              "      <td>...</td>\n",
              "      <td>...</td>\n",
              "      <td>...</td>\n",
              "      <td>...</td>\n",
              "      <td>...</td>\n",
              "      <td>...</td>\n",
              "      <td>...</td>\n",
              "      <td>...</td>\n",
              "      <td>...</td>\n",
              "      <td>...</td>\n",
              "      <td>...</td>\n",
              "      <td>...</td>\n",
              "      <td>...</td>\n",
              "      <td>...</td>\n",
              "      <td>...</td>\n",
              "      <td>...</td>\n",
              "      <td>...</td>\n",
              "      <td>...</td>\n",
              "      <td>...</td>\n",
              "    </tr>\n",
              "    <tr>\n",
              "      <th>2009-09-23</th>\n",
              "      <td>3678</td>\n",
              "      <td>12.70</td>\n",
              "      <td>182.2</td>\n",
              "      <td>271.586</td>\n",
              "      <td>93.255111</td>\n",
              "      <td>179.0</td>\n",
              "      <td>258.6</td>\n",
              "      <td>92.702141</td>\n",
              "      <td>55.6</td>\n",
              "      <td>41.8</td>\n",
              "      <td>...</td>\n",
              "      <td>60.9</td>\n",
              "      <td>60.8</td>\n",
              "      <td>89.7</td>\n",
              "      <td>88.527017</td>\n",
              "      <td>NaN</td>\n",
              "      <td>NaN</td>\n",
              "      <td>NaN</td>\n",
              "      <td>NaN</td>\n",
              "      <td>NaN</td>\n",
              "      <td>NaN</td>\n",
              "    </tr>\n",
              "    <tr>\n",
              "      <th>2009-09-27</th>\n",
              "      <td>3678</td>\n",
              "      <td>14.29</td>\n",
              "      <td>157.0</td>\n",
              "      <td>249.076</td>\n",
              "      <td>96.472143</td>\n",
              "      <td>153.0</td>\n",
              "      <td>233.5</td>\n",
              "      <td>100.060417</td>\n",
              "      <td>56.7</td>\n",
              "      <td>47.6</td>\n",
              "      <td>...</td>\n",
              "      <td>60.9</td>\n",
              "      <td>60.8</td>\n",
              "      <td>87.3</td>\n",
              "      <td>86.158401</td>\n",
              "      <td>NaN</td>\n",
              "      <td>NaN</td>\n",
              "      <td>NaN</td>\n",
              "      <td>NaN</td>\n",
              "      <td>NaN</td>\n",
              "      <td>NaN</td>\n",
              "    </tr>\n",
              "    <tr>\n",
              "      <th>2010-04-09</th>\n",
              "      <td>3679.5</td>\n",
              "      <td>7.94</td>\n",
              "      <td>211.9</td>\n",
              "      <td>289.3877</td>\n",
              "      <td>91.131226</td>\n",
              "      <td>208.0</td>\n",
              "      <td>289.6</td>\n",
              "      <td>91.304642</td>\n",
              "      <td>47.0</td>\n",
              "      <td>24.4</td>\n",
              "      <td>...</td>\n",
              "      <td>64.1</td>\n",
              "      <td>61.3</td>\n",
              "      <td>88.2</td>\n",
              "      <td>87.046632</td>\n",
              "      <td>NaN</td>\n",
              "      <td>NaN</td>\n",
              "      <td>NaN</td>\n",
              "      <td>NaN</td>\n",
              "      <td>NaN</td>\n",
              "      <td>NaN</td>\n",
              "    </tr>\n",
              "    <tr>\n",
              "      <th>2010-04-14</th>\n",
              "      <td>3679.5</td>\n",
              "      <td>9.53</td>\n",
              "      <td>204.0</td>\n",
              "      <td>282.8709</td>\n",
              "      <td>91.173008</td>\n",
              "      <td>201.0</td>\n",
              "      <td>275.3</td>\n",
              "      <td>91.616821</td>\n",
              "      <td>48.9</td>\n",
              "      <td>26.7</td>\n",
              "      <td>...</td>\n",
              "      <td>64.1</td>\n",
              "      <td>61.3</td>\n",
              "      <td>88.5</td>\n",
              "      <td>87.342709</td>\n",
              "      <td>NaN</td>\n",
              "      <td>NaN</td>\n",
              "      <td>NaN</td>\n",
              "      <td>NaN</td>\n",
              "      <td>NaN</td>\n",
              "      <td>NaN</td>\n",
              "    </tr>\n",
              "    <tr>\n",
              "      <th>2010-04-17</th>\n",
              "      <td>3679.5</td>\n",
              "      <td>11.11</td>\n",
              "      <td>187.5</td>\n",
              "      <td>267.4787</td>\n",
              "      <td>91.530262</td>\n",
              "      <td>184.0</td>\n",
              "      <td>255</td>\n",
              "      <td>89.507935</td>\n",
              "      <td>53.5</td>\n",
              "      <td>33.3</td>\n",
              "      <td>...</td>\n",
              "      <td>64.1</td>\n",
              "      <td>61.3</td>\n",
              "      <td>89.8</td>\n",
              "      <td>88.625709</td>\n",
              "      <td>NaN</td>\n",
              "      <td>NaN</td>\n",
              "      <td>NaN</td>\n",
              "      <td>NaN</td>\n",
              "      <td>NaN</td>\n",
              "      <td>NaN</td>\n",
              "    </tr>\n",
              "  </tbody>\n",
              "</table>\n",
              "<p>185 rows × 31 columns</p>\n",
              "</div>\n",
              "      <button class=\"colab-df-convert\" onclick=\"convertToInteractive('df-579c9201-7677-49fb-a5d2-6b1603fd85ce')\"\n",
              "              title=\"Convert this dataframe to an interactive table.\"\n",
              "              style=\"display:none;\">\n",
              "        \n",
              "  <svg xmlns=\"http://www.w3.org/2000/svg\" height=\"24px\"viewBox=\"0 0 24 24\"\n",
              "       width=\"24px\">\n",
              "    <path d=\"M0 0h24v24H0V0z\" fill=\"none\"/>\n",
              "    <path d=\"M18.56 5.44l.94 2.06.94-2.06 2.06-.94-2.06-.94-.94-2.06-.94 2.06-2.06.94zm-11 1L8.5 8.5l.94-2.06 2.06-.94-2.06-.94L8.5 2.5l-.94 2.06-2.06.94zm10 10l.94 2.06.94-2.06 2.06-.94-2.06-.94-.94-2.06-.94 2.06-2.06.94z\"/><path d=\"M17.41 7.96l-1.37-1.37c-.4-.4-.92-.59-1.43-.59-.52 0-1.04.2-1.43.59L10.3 9.45l-7.72 7.72c-.78.78-.78 2.05 0 2.83L4 21.41c.39.39.9.59 1.41.59.51 0 1.02-.2 1.41-.59l7.78-7.78 2.81-2.81c.8-.78.8-2.07 0-2.86zM5.41 20L4 18.59l7.72-7.72 1.47 1.35L5.41 20z\"/>\n",
              "  </svg>\n",
              "      </button>\n",
              "      \n",
              "  <style>\n",
              "    .colab-df-container {\n",
              "      display:flex;\n",
              "      flex-wrap:wrap;\n",
              "      gap: 12px;\n",
              "    }\n",
              "\n",
              "    .colab-df-convert {\n",
              "      background-color: #E8F0FE;\n",
              "      border: none;\n",
              "      border-radius: 50%;\n",
              "      cursor: pointer;\n",
              "      display: none;\n",
              "      fill: #1967D2;\n",
              "      height: 32px;\n",
              "      padding: 0 0 0 0;\n",
              "      width: 32px;\n",
              "    }\n",
              "\n",
              "    .colab-df-convert:hover {\n",
              "      background-color: #E2EBFA;\n",
              "      box-shadow: 0px 1px 2px rgba(60, 64, 67, 0.3), 0px 1px 3px 1px rgba(60, 64, 67, 0.15);\n",
              "      fill: #174EA6;\n",
              "    }\n",
              "\n",
              "    [theme=dark] .colab-df-convert {\n",
              "      background-color: #3B4455;\n",
              "      fill: #D2E3FC;\n",
              "    }\n",
              "\n",
              "    [theme=dark] .colab-df-convert:hover {\n",
              "      background-color: #434B5C;\n",
              "      box-shadow: 0px 1px 3px 1px rgba(0, 0, 0, 0.15);\n",
              "      filter: drop-shadow(0px 1px 2px rgba(0, 0, 0, 0.3));\n",
              "      fill: #FFFFFF;\n",
              "    }\n",
              "  </style>\n",
              "\n",
              "      <script>\n",
              "        const buttonEl =\n",
              "          document.querySelector('#df-579c9201-7677-49fb-a5d2-6b1603fd85ce button.colab-df-convert');\n",
              "        buttonEl.style.display =\n",
              "          google.colab.kernel.accessAllowed ? 'block' : 'none';\n",
              "\n",
              "        async function convertToInteractive(key) {\n",
              "          const element = document.querySelector('#df-579c9201-7677-49fb-a5d2-6b1603fd85ce');\n",
              "          const dataTable =\n",
              "            await google.colab.kernel.invokeFunction('convertToInteractive',\n",
              "                                                     [key], {});\n",
              "          if (!dataTable) return;\n",
              "\n",
              "          const docLinkHtml = 'Like what you see? Visit the ' +\n",
              "            '<a target=\"_blank\" href=https://colab.research.google.com/notebooks/data_table.ipynb>data table notebook</a>'\n",
              "            + ' to learn more about interactive tables.';\n",
              "          element.innerHTML = '';\n",
              "          dataTable['output_type'] = 'display_data';\n",
              "          await google.colab.output.renderOutput(dataTable, element);\n",
              "          const docLink = document.createElement('div');\n",
              "          docLink.innerHTML = docLinkHtml;\n",
              "          element.appendChild(docLink);\n",
              "        }\n",
              "      </script>\n",
              "    </div>\n",
              "  </div>\n",
              "  "
            ]
          },
          "metadata": {},
          "execution_count": 3
        }
      ],
      "source": [
        "df = pd.read_excel('/content/Lab1.xlsx', index_col=0, comment='#') \n",
        "df"
      ]
    },
    {
      "cell_type": "code",
      "source": [
        "df = df.replace('-', np.nan, regex=True)\n",
        "df = df.replace('не спускался', np.nan, regex=True)"
      ],
      "metadata": {
        "id": "qPRij32-3YaQ"
      },
      "execution_count": 4,
      "outputs": []
    },
    {
      "cell_type": "code",
      "source": [
        "for col in df.columns:\n",
        "    pct_missing = np.mean(df[col].isnull())\n",
        "    print('{} - {}%'.format(col, round(pct_missing*100)))"
      ],
      "metadata": {
        "colab": {
          "base_uri": "https://localhost:8080/"
        },
        "id": "_ZnpFH54b9Vi",
        "outputId": "643c6b5b-06e1-4b75-ba40-e9511ca02213"
      },
      "execution_count": 5,
      "outputs": [
        {
          "output_type": "stream",
          "name": "stdout",
          "text": [
            "Глубина манометра - 2%\n",
            "Dшт - 0%\n",
            "Руст - 0%\n",
            "Рзаб - 2%\n",
            "Pлин - 4%\n",
            "Руст.1 - 0%\n",
            "Рзаб.1 - 2%\n",
            "Рлин - 6%\n",
            "Туст - 0%\n",
            "Тна шлейфе - 33%\n",
            "Тзаб - 2%\n",
            "Tлин - 4%\n",
            "Дебит газа - 0%\n",
            "Дебит ст. конд. - 0%\n",
            "Дебит воды - 0%\n",
            "Дебит смеси - 5%\n",
            "Дебит гааз - 4%\n",
            "Дебит кон нестабильный - 4%\n",
            "Дебит воды.1 - 4%\n",
            "Нэф - 0%\n",
            "Рпл. Тек (послед точка на КВД) - 4%\n",
            "Рпл. Тек (Расчет по КВД) - 15%\n",
            "Рпл. Тек (Карноухов) - 27%\n",
            "Pсб - 4%\n",
            "Pсб.1 - 4%\n",
            "Ro_g - 88%\n",
            "Ro_c - 50%\n",
            "Ro_w - 88%\n",
            "Удельная плотность газа  - 50%\n",
            "G_total - 88%\n",
            "КГФ - 50%\n"
          ]
        }
      ]
    },
    {
      "cell_type": "code",
      "source": [
        "df_less_missing_rows = df.dropna(subset=['G_total', 'КГФ'], how='all')\n",
        "df_less_missing_rows"
      ],
      "metadata": {
        "colab": {
          "base_uri": "https://localhost:8080/",
          "height": 713
        },
        "id": "lGn78x96iEb7",
        "outputId": "d4f1b1b1-6445-4148-f428-2c41569b006f"
      },
      "execution_count": 6,
      "outputs": [
        {
          "output_type": "execute_result",
          "data": {
            "text/plain": [
              "           Глубина манометра    Dшт        Руст   Рзаб       Pлин  Руст.1  \\\n",
              "2008-06-05            3576.3   7.94  249.600000  370.1      101.8   249.0   \n",
              "2008-06-06            3576.3   9.53  233.500000  364.6      101.3   231.0   \n",
              "2008-06-07            3576.3  11.11  213.400000  357.1      101.6   211.0   \n",
              "2008-06-08            3576.3  12.70  191.600000  347.4       98.4   187.0   \n",
              "2008-06-09            3576.3  14.29  171.900000  337.7       99.2   169.0   \n",
              "...                      ...    ...         ...    ...        ...     ...   \n",
              "2009-01-28              3284  12.70  215.000000  307.8       98.6   215.0   \n",
              "2009-02-01              3284  14.29  198.000000  293.6       98.5   197.0   \n",
              "2010-08-16            3288.6   7.94  231.229167  309.1       92.6   230.0   \n",
              "2010-08-20            3288.6  11.11  217.201681  293.9       93.1   215.0   \n",
              "2011-10-02            3289.8   9.53  199.000000    271  95.945951   199.0   \n",
              "\n",
              "           Рзаб.1    Рлин  Туст Тна шлейфе  ... Рпл. Тек (Расчет по КВД)  \\\n",
              "2008-06-05  359.6   101.8  53.0       31.7  ...                     56.5   \n",
              "2008-06-06  338.1   102.4  58.8       37.6  ...                     56.5   \n",
              "2008-06-07  314.8   100.6  63.6       42.8  ...                     56.5   \n",
              "2008-06-08  291.5      99  64.7       46.2  ...                     56.5   \n",
              "2008-06-09  270.3    99.5  64.0       49.4  ...                     56.5   \n",
              "...           ...     ...   ...        ...  ...                      ...   \n",
              "2009-01-28  308.1    97.2  65.0       45.8  ...                     40.5   \n",
              "2009-02-01  293.9    98.4  66.9       49.8  ...                     40.5   \n",
              "2010-08-16  307.1    92.7  51.0        NaN  ...                      NaN   \n",
              "2010-08-20  293.9    93.3  60.0        NaN  ...                      NaN   \n",
              "2011-10-02  272.3  94.637  56.0        NaN  ...                     39.9   \n",
              "\n",
              "           Рпл. Тек (Карноухов)   Pсб      Pсб.1      Ro_g   Ro_c    Ro_w  \\\n",
              "2008-06-05                  NaN  93.6  92.376018  0.806017  801.0  1000.0   \n",
              "2008-06-06                  NaN  92.9  91.685171  0.806017  801.0  1000.0   \n",
              "2008-06-07                  NaN  91.4  90.204787  0.806017  801.0  1000.0   \n",
              "2008-06-08                  NaN  89.2  88.033555  0.806017  801.0  1000.0   \n",
              "2008-06-09                  NaN  89.7  88.527017  0.806017  801.0  1000.0   \n",
              "...                         ...   ...        ...       ...    ...     ...   \n",
              "2009-01-28                 41.6  94.4  93.165556       NaN  782.0     NaN   \n",
              "2009-02-01                 41.6  94.0  92.770787       NaN  782.0     NaN   \n",
              "2010-08-16                  NaN  89.9  88.724402       NaN  779.6     NaN   \n",
              "2010-08-20                  NaN  90.8  89.612633       NaN  779.6     NaN   \n",
              "2011-10-02                  NaN  94.0  92.770787       NaN  772.6     NaN   \n",
              "\n",
              "           Удельная плотность газа    G_total       КГФ  \n",
              "2008-06-05                 0.669449  2.782623  0.311909  \n",
              "2008-06-06                 0.669449  3.697781  0.288600  \n",
              "2008-06-07                 0.669449  4.515073  0.248791  \n",
              "2008-06-08                 0.669449  5.217673  0.223559  \n",
              "2008-06-09                 0.669449  5.765092  0.215149  \n",
              "...                             ...       ...       ...  \n",
              "2009-01-28                 0.660000       NaN  0.153000  \n",
              "2009-02-01                 0.660000       NaN  0.147000  \n",
              "2010-08-16                 0.668000       NaN  0.182000  \n",
              "2010-08-20                 0.668000       NaN  0.145000  \n",
              "2011-10-02                 0.671000       NaN  0.139000  \n",
              "\n",
              "[93 rows x 31 columns]"
            ],
            "text/html": [
              "\n",
              "  <div id=\"df-eb7cd2ab-100f-4d76-b6a2-d53693a532e0\">\n",
              "    <div class=\"colab-df-container\">\n",
              "      <div>\n",
              "<style scoped>\n",
              "    .dataframe tbody tr th:only-of-type {\n",
              "        vertical-align: middle;\n",
              "    }\n",
              "\n",
              "    .dataframe tbody tr th {\n",
              "        vertical-align: top;\n",
              "    }\n",
              "\n",
              "    .dataframe thead th {\n",
              "        text-align: right;\n",
              "    }\n",
              "</style>\n",
              "<table border=\"1\" class=\"dataframe\">\n",
              "  <thead>\n",
              "    <tr style=\"text-align: right;\">\n",
              "      <th></th>\n",
              "      <th>Глубина манометра</th>\n",
              "      <th>Dшт</th>\n",
              "      <th>Руст</th>\n",
              "      <th>Рзаб</th>\n",
              "      <th>Pлин</th>\n",
              "      <th>Руст.1</th>\n",
              "      <th>Рзаб.1</th>\n",
              "      <th>Рлин</th>\n",
              "      <th>Туст</th>\n",
              "      <th>Тна шлейфе</th>\n",
              "      <th>...</th>\n",
              "      <th>Рпл. Тек (Расчет по КВД)</th>\n",
              "      <th>Рпл. Тек (Карноухов)</th>\n",
              "      <th>Pсб</th>\n",
              "      <th>Pсб.1</th>\n",
              "      <th>Ro_g</th>\n",
              "      <th>Ro_c</th>\n",
              "      <th>Ro_w</th>\n",
              "      <th>Удельная плотность газа</th>\n",
              "      <th>G_total</th>\n",
              "      <th>КГФ</th>\n",
              "    </tr>\n",
              "  </thead>\n",
              "  <tbody>\n",
              "    <tr>\n",
              "      <th>2008-06-05</th>\n",
              "      <td>3576.3</td>\n",
              "      <td>7.94</td>\n",
              "      <td>249.600000</td>\n",
              "      <td>370.1</td>\n",
              "      <td>101.8</td>\n",
              "      <td>249.0</td>\n",
              "      <td>359.6</td>\n",
              "      <td>101.8</td>\n",
              "      <td>53.0</td>\n",
              "      <td>31.7</td>\n",
              "      <td>...</td>\n",
              "      <td>56.5</td>\n",
              "      <td>NaN</td>\n",
              "      <td>93.6</td>\n",
              "      <td>92.376018</td>\n",
              "      <td>0.806017</td>\n",
              "      <td>801.0</td>\n",
              "      <td>1000.0</td>\n",
              "      <td>0.669449</td>\n",
              "      <td>2.782623</td>\n",
              "      <td>0.311909</td>\n",
              "    </tr>\n",
              "    <tr>\n",
              "      <th>2008-06-06</th>\n",
              "      <td>3576.3</td>\n",
              "      <td>9.53</td>\n",
              "      <td>233.500000</td>\n",
              "      <td>364.6</td>\n",
              "      <td>101.3</td>\n",
              "      <td>231.0</td>\n",
              "      <td>338.1</td>\n",
              "      <td>102.4</td>\n",
              "      <td>58.8</td>\n",
              "      <td>37.6</td>\n",
              "      <td>...</td>\n",
              "      <td>56.5</td>\n",
              "      <td>NaN</td>\n",
              "      <td>92.9</td>\n",
              "      <td>91.685171</td>\n",
              "      <td>0.806017</td>\n",
              "      <td>801.0</td>\n",
              "      <td>1000.0</td>\n",
              "      <td>0.669449</td>\n",
              "      <td>3.697781</td>\n",
              "      <td>0.288600</td>\n",
              "    </tr>\n",
              "    <tr>\n",
              "      <th>2008-06-07</th>\n",
              "      <td>3576.3</td>\n",
              "      <td>11.11</td>\n",
              "      <td>213.400000</td>\n",
              "      <td>357.1</td>\n",
              "      <td>101.6</td>\n",
              "      <td>211.0</td>\n",
              "      <td>314.8</td>\n",
              "      <td>100.6</td>\n",
              "      <td>63.6</td>\n",
              "      <td>42.8</td>\n",
              "      <td>...</td>\n",
              "      <td>56.5</td>\n",
              "      <td>NaN</td>\n",
              "      <td>91.4</td>\n",
              "      <td>90.204787</td>\n",
              "      <td>0.806017</td>\n",
              "      <td>801.0</td>\n",
              "      <td>1000.0</td>\n",
              "      <td>0.669449</td>\n",
              "      <td>4.515073</td>\n",
              "      <td>0.248791</td>\n",
              "    </tr>\n",
              "    <tr>\n",
              "      <th>2008-06-08</th>\n",
              "      <td>3576.3</td>\n",
              "      <td>12.70</td>\n",
              "      <td>191.600000</td>\n",
              "      <td>347.4</td>\n",
              "      <td>98.4</td>\n",
              "      <td>187.0</td>\n",
              "      <td>291.5</td>\n",
              "      <td>99</td>\n",
              "      <td>64.7</td>\n",
              "      <td>46.2</td>\n",
              "      <td>...</td>\n",
              "      <td>56.5</td>\n",
              "      <td>NaN</td>\n",
              "      <td>89.2</td>\n",
              "      <td>88.033555</td>\n",
              "      <td>0.806017</td>\n",
              "      <td>801.0</td>\n",
              "      <td>1000.0</td>\n",
              "      <td>0.669449</td>\n",
              "      <td>5.217673</td>\n",
              "      <td>0.223559</td>\n",
              "    </tr>\n",
              "    <tr>\n",
              "      <th>2008-06-09</th>\n",
              "      <td>3576.3</td>\n",
              "      <td>14.29</td>\n",
              "      <td>171.900000</td>\n",
              "      <td>337.7</td>\n",
              "      <td>99.2</td>\n",
              "      <td>169.0</td>\n",
              "      <td>270.3</td>\n",
              "      <td>99.5</td>\n",
              "      <td>64.0</td>\n",
              "      <td>49.4</td>\n",
              "      <td>...</td>\n",
              "      <td>56.5</td>\n",
              "      <td>NaN</td>\n",
              "      <td>89.7</td>\n",
              "      <td>88.527017</td>\n",
              "      <td>0.806017</td>\n",
              "      <td>801.0</td>\n",
              "      <td>1000.0</td>\n",
              "      <td>0.669449</td>\n",
              "      <td>5.765092</td>\n",
              "      <td>0.215149</td>\n",
              "    </tr>\n",
              "    <tr>\n",
              "      <th>...</th>\n",
              "      <td>...</td>\n",
              "      <td>...</td>\n",
              "      <td>...</td>\n",
              "      <td>...</td>\n",
              "      <td>...</td>\n",
              "      <td>...</td>\n",
              "      <td>...</td>\n",
              "      <td>...</td>\n",
              "      <td>...</td>\n",
              "      <td>...</td>\n",
              "      <td>...</td>\n",
              "      <td>...</td>\n",
              "      <td>...</td>\n",
              "      <td>...</td>\n",
              "      <td>...</td>\n",
              "      <td>...</td>\n",
              "      <td>...</td>\n",
              "      <td>...</td>\n",
              "      <td>...</td>\n",
              "      <td>...</td>\n",
              "      <td>...</td>\n",
              "    </tr>\n",
              "    <tr>\n",
              "      <th>2009-01-28</th>\n",
              "      <td>3284</td>\n",
              "      <td>12.70</td>\n",
              "      <td>215.000000</td>\n",
              "      <td>307.8</td>\n",
              "      <td>98.6</td>\n",
              "      <td>215.0</td>\n",
              "      <td>308.1</td>\n",
              "      <td>97.2</td>\n",
              "      <td>65.0</td>\n",
              "      <td>45.8</td>\n",
              "      <td>...</td>\n",
              "      <td>40.5</td>\n",
              "      <td>41.6</td>\n",
              "      <td>94.4</td>\n",
              "      <td>93.165556</td>\n",
              "      <td>NaN</td>\n",
              "      <td>782.0</td>\n",
              "      <td>NaN</td>\n",
              "      <td>0.660000</td>\n",
              "      <td>NaN</td>\n",
              "      <td>0.153000</td>\n",
              "    </tr>\n",
              "    <tr>\n",
              "      <th>2009-02-01</th>\n",
              "      <td>3284</td>\n",
              "      <td>14.29</td>\n",
              "      <td>198.000000</td>\n",
              "      <td>293.6</td>\n",
              "      <td>98.5</td>\n",
              "      <td>197.0</td>\n",
              "      <td>293.9</td>\n",
              "      <td>98.4</td>\n",
              "      <td>66.9</td>\n",
              "      <td>49.8</td>\n",
              "      <td>...</td>\n",
              "      <td>40.5</td>\n",
              "      <td>41.6</td>\n",
              "      <td>94.0</td>\n",
              "      <td>92.770787</td>\n",
              "      <td>NaN</td>\n",
              "      <td>782.0</td>\n",
              "      <td>NaN</td>\n",
              "      <td>0.660000</td>\n",
              "      <td>NaN</td>\n",
              "      <td>0.147000</td>\n",
              "    </tr>\n",
              "    <tr>\n",
              "      <th>2010-08-16</th>\n",
              "      <td>3288.6</td>\n",
              "      <td>7.94</td>\n",
              "      <td>231.229167</td>\n",
              "      <td>309.1</td>\n",
              "      <td>92.6</td>\n",
              "      <td>230.0</td>\n",
              "      <td>307.1</td>\n",
              "      <td>92.7</td>\n",
              "      <td>51.0</td>\n",
              "      <td>NaN</td>\n",
              "      <td>...</td>\n",
              "      <td>NaN</td>\n",
              "      <td>NaN</td>\n",
              "      <td>89.9</td>\n",
              "      <td>88.724402</td>\n",
              "      <td>NaN</td>\n",
              "      <td>779.6</td>\n",
              "      <td>NaN</td>\n",
              "      <td>0.668000</td>\n",
              "      <td>NaN</td>\n",
              "      <td>0.182000</td>\n",
              "    </tr>\n",
              "    <tr>\n",
              "      <th>2010-08-20</th>\n",
              "      <td>3288.6</td>\n",
              "      <td>11.11</td>\n",
              "      <td>217.201681</td>\n",
              "      <td>293.9</td>\n",
              "      <td>93.1</td>\n",
              "      <td>215.0</td>\n",
              "      <td>293.9</td>\n",
              "      <td>93.3</td>\n",
              "      <td>60.0</td>\n",
              "      <td>NaN</td>\n",
              "      <td>...</td>\n",
              "      <td>NaN</td>\n",
              "      <td>NaN</td>\n",
              "      <td>90.8</td>\n",
              "      <td>89.612633</td>\n",
              "      <td>NaN</td>\n",
              "      <td>779.6</td>\n",
              "      <td>NaN</td>\n",
              "      <td>0.668000</td>\n",
              "      <td>NaN</td>\n",
              "      <td>0.145000</td>\n",
              "    </tr>\n",
              "    <tr>\n",
              "      <th>2011-10-02</th>\n",
              "      <td>3289.8</td>\n",
              "      <td>9.53</td>\n",
              "      <td>199.000000</td>\n",
              "      <td>271</td>\n",
              "      <td>95.945951</td>\n",
              "      <td>199.0</td>\n",
              "      <td>272.3</td>\n",
              "      <td>94.637</td>\n",
              "      <td>56.0</td>\n",
              "      <td>NaN</td>\n",
              "      <td>...</td>\n",
              "      <td>39.9</td>\n",
              "      <td>NaN</td>\n",
              "      <td>94.0</td>\n",
              "      <td>92.770787</td>\n",
              "      <td>NaN</td>\n",
              "      <td>772.6</td>\n",
              "      <td>NaN</td>\n",
              "      <td>0.671000</td>\n",
              "      <td>NaN</td>\n",
              "      <td>0.139000</td>\n",
              "    </tr>\n",
              "  </tbody>\n",
              "</table>\n",
              "<p>93 rows × 31 columns</p>\n",
              "</div>\n",
              "      <button class=\"colab-df-convert\" onclick=\"convertToInteractive('df-eb7cd2ab-100f-4d76-b6a2-d53693a532e0')\"\n",
              "              title=\"Convert this dataframe to an interactive table.\"\n",
              "              style=\"display:none;\">\n",
              "        \n",
              "  <svg xmlns=\"http://www.w3.org/2000/svg\" height=\"24px\"viewBox=\"0 0 24 24\"\n",
              "       width=\"24px\">\n",
              "    <path d=\"M0 0h24v24H0V0z\" fill=\"none\"/>\n",
              "    <path d=\"M18.56 5.44l.94 2.06.94-2.06 2.06-.94-2.06-.94-.94-2.06-.94 2.06-2.06.94zm-11 1L8.5 8.5l.94-2.06 2.06-.94-2.06-.94L8.5 2.5l-.94 2.06-2.06.94zm10 10l.94 2.06.94-2.06 2.06-.94-2.06-.94-.94-2.06-.94 2.06-2.06.94z\"/><path d=\"M17.41 7.96l-1.37-1.37c-.4-.4-.92-.59-1.43-.59-.52 0-1.04.2-1.43.59L10.3 9.45l-7.72 7.72c-.78.78-.78 2.05 0 2.83L4 21.41c.39.39.9.59 1.41.59.51 0 1.02-.2 1.41-.59l7.78-7.78 2.81-2.81c.8-.78.8-2.07 0-2.86zM5.41 20L4 18.59l7.72-7.72 1.47 1.35L5.41 20z\"/>\n",
              "  </svg>\n",
              "      </button>\n",
              "      \n",
              "  <style>\n",
              "    .colab-df-container {\n",
              "      display:flex;\n",
              "      flex-wrap:wrap;\n",
              "      gap: 12px;\n",
              "    }\n",
              "\n",
              "    .colab-df-convert {\n",
              "      background-color: #E8F0FE;\n",
              "      border: none;\n",
              "      border-radius: 50%;\n",
              "      cursor: pointer;\n",
              "      display: none;\n",
              "      fill: #1967D2;\n",
              "      height: 32px;\n",
              "      padding: 0 0 0 0;\n",
              "      width: 32px;\n",
              "    }\n",
              "\n",
              "    .colab-df-convert:hover {\n",
              "      background-color: #E2EBFA;\n",
              "      box-shadow: 0px 1px 2px rgba(60, 64, 67, 0.3), 0px 1px 3px 1px rgba(60, 64, 67, 0.15);\n",
              "      fill: #174EA6;\n",
              "    }\n",
              "\n",
              "    [theme=dark] .colab-df-convert {\n",
              "      background-color: #3B4455;\n",
              "      fill: #D2E3FC;\n",
              "    }\n",
              "\n",
              "    [theme=dark] .colab-df-convert:hover {\n",
              "      background-color: #434B5C;\n",
              "      box-shadow: 0px 1px 3px 1px rgba(0, 0, 0, 0.15);\n",
              "      filter: drop-shadow(0px 1px 2px rgba(0, 0, 0, 0.3));\n",
              "      fill: #FFFFFF;\n",
              "    }\n",
              "  </style>\n",
              "\n",
              "      <script>\n",
              "        const buttonEl =\n",
              "          document.querySelector('#df-eb7cd2ab-100f-4d76-b6a2-d53693a532e0 button.colab-df-convert');\n",
              "        buttonEl.style.display =\n",
              "          google.colab.kernel.accessAllowed ? 'block' : 'none';\n",
              "\n",
              "        async function convertToInteractive(key) {\n",
              "          const element = document.querySelector('#df-eb7cd2ab-100f-4d76-b6a2-d53693a532e0');\n",
              "          const dataTable =\n",
              "            await google.colab.kernel.invokeFunction('convertToInteractive',\n",
              "                                                     [key], {});\n",
              "          if (!dataTable) return;\n",
              "\n",
              "          const docLinkHtml = 'Like what you see? Visit the ' +\n",
              "            '<a target=\"_blank\" href=https://colab.research.google.com/notebooks/data_table.ipynb>data table notebook</a>'\n",
              "            + ' to learn more about interactive tables.';\n",
              "          element.innerHTML = '';\n",
              "          dataTable['output_type'] = 'display_data';\n",
              "          await google.colab.output.renderOutput(dataTable, element);\n",
              "          const docLink = document.createElement('div');\n",
              "          docLink.innerHTML = docLinkHtml;\n",
              "          element.appendChild(docLink);\n",
              "        }\n",
              "      </script>\n",
              "    </div>\n",
              "  </div>\n",
              "  "
            ]
          },
          "metadata": {},
          "execution_count": 6
        }
      ]
    },
    {
      "cell_type": "code",
      "source": [
        "df_less_missing_rows = df_less_missing_rows.drop(columns = ['Ro_g'], axis = 1)\n",
        "df_less_missing_rows = df_less_missing_rows.drop(columns = ['Ro_w'], axis = 1)"
      ],
      "metadata": {
        "id": "yPnpzltv4pJy"
      },
      "execution_count": 7,
      "outputs": []
    },
    {
      "cell_type": "code",
      "source": [
        "np.abs(df_less_missing_rows.corr())"
      ],
      "metadata": {
        "colab": {
          "base_uri": "https://localhost:8080/",
          "height": 654
        },
        "id": "36-hDy927cVS",
        "outputId": "5ada9727-441f-4727-d2ee-5d941a360647"
      },
      "execution_count": 8,
      "outputs": [
        {
          "output_type": "execute_result",
          "data": {
            "text/plain": [
              "                               Dшт      Руст    Руст.1      Туст  Дебит газа  \\\n",
              "Dшт                       1.000000  0.386698  0.389556  0.542294    0.865622   \n",
              "Руст                      0.386698  1.000000  0.999288  0.107952    0.068104   \n",
              "Руст.1                    0.389556  0.999288  1.000000  0.108682    0.066578   \n",
              "Туст                      0.542294  0.107952  0.108682  1.000000    0.657424   \n",
              "Дебит газа                0.865622  0.068104  0.066578  0.657424    1.000000   \n",
              "Дебит ст. конд.           0.621313  0.307248  0.299897  0.538248    0.836553   \n",
              "Дебит воды                0.536016  0.099397  0.098633  0.554249    0.641696   \n",
              "Нэф                       0.167398  0.208647  0.200159  0.343119    0.291002   \n",
              "Pсб                       0.027716  0.174191  0.174389  0.473788    0.067155   \n",
              "Pсб.1                     0.027716  0.174191  0.174389  0.473788    0.067155   \n",
              "Ro_c                      0.093584  0.109322  0.113124  0.198077    0.069634   \n",
              "Удельная плотность газа   0.194179  0.380945  0.383703  0.395451    0.342555   \n",
              "G_total                   0.735355  0.115329  0.125809  0.689091    0.993426   \n",
              "КГФ                       0.231636  0.494718  0.481088  0.170377    0.044515   \n",
              "\n",
              "                          Дебит ст. конд.  Дебит воды       Нэф       Pсб  \\\n",
              "Dшт                              0.621313    0.536016  0.167398  0.027716   \n",
              "Руст                             0.307248    0.099397  0.208647  0.174191   \n",
              "Руст.1                           0.299897    0.098633  0.200159  0.174389   \n",
              "Туст                             0.538248    0.554249  0.343119  0.473788   \n",
              "Дебит газа                       0.836553    0.641696  0.291002  0.067155   \n",
              "Дебит ст. конд.                  1.000000    0.518666  0.357679  0.074457   \n",
              "Дебит воды                       0.518666    1.000000  0.103691  0.317671   \n",
              "Нэф                              0.357679    0.103691  1.000000  0.250150   \n",
              "Pсб                              0.074457    0.317671  0.250150  1.000000   \n",
              "Pсб.1                            0.074457    0.317671  0.250150  1.000000   \n",
              "Ro_c                             0.086055    0.042349  0.111661  0.131570   \n",
              "Удельная плотность газа          0.335353    0.255689  0.051892  0.035813   \n",
              "G_total                          0.966527    0.842481  0.450412  0.113662   \n",
              "КГФ                              0.458866    0.150919  0.140222  0.026800   \n",
              "\n",
              "                             Pсб.1      Ro_c  Удельная плотность газа   \\\n",
              "Dшт                       0.027716  0.093584                  0.194179   \n",
              "Руст                      0.174191  0.109322                  0.380945   \n",
              "Руст.1                    0.174389  0.113124                  0.383703   \n",
              "Туст                      0.473788  0.198077                  0.395451   \n",
              "Дебит газа                0.067155  0.069634                  0.342555   \n",
              "Дебит ст. конд.           0.074457  0.086055                  0.335353   \n",
              "Дебит воды                0.317671  0.042349                  0.255689   \n",
              "Нэф                       0.250150  0.111661                  0.051892   \n",
              "Pсб                       1.000000  0.131570                  0.035813   \n",
              "Pсб.1                     1.000000  0.131570                  0.035813   \n",
              "Ro_c                      0.131570  1.000000                  0.013550   \n",
              "Удельная плотность газа   0.035813  0.013550                  1.000000   \n",
              "G_total                   0.113662  0.233149                  0.400391   \n",
              "КГФ                       0.026800  0.068622                  0.115922   \n",
              "\n",
              "                           G_total       КГФ  \n",
              "Dшт                       0.735355  0.231636  \n",
              "Руст                      0.115329  0.494718  \n",
              "Руст.1                    0.125809  0.481088  \n",
              "Туст                      0.689091  0.170377  \n",
              "Дебит газа                0.993426  0.044515  \n",
              "Дебит ст. конд.           0.966527  0.458866  \n",
              "Дебит воды                0.842481  0.150919  \n",
              "Нэф                       0.450412  0.140222  \n",
              "Pсб                       0.113662  0.026800  \n",
              "Pсб.1                     0.113662  0.026800  \n",
              "Ro_c                      0.233149  0.068622  \n",
              "Удельная плотность газа   0.400391  0.115922  \n",
              "G_total                   1.000000  0.009890  \n",
              "КГФ                       0.009890  1.000000  "
            ],
            "text/html": [
              "\n",
              "  <div id=\"df-6a7556e0-4c1e-4757-9dad-c29635908a9a\">\n",
              "    <div class=\"colab-df-container\">\n",
              "      <div>\n",
              "<style scoped>\n",
              "    .dataframe tbody tr th:only-of-type {\n",
              "        vertical-align: middle;\n",
              "    }\n",
              "\n",
              "    .dataframe tbody tr th {\n",
              "        vertical-align: top;\n",
              "    }\n",
              "\n",
              "    .dataframe thead th {\n",
              "        text-align: right;\n",
              "    }\n",
              "</style>\n",
              "<table border=\"1\" class=\"dataframe\">\n",
              "  <thead>\n",
              "    <tr style=\"text-align: right;\">\n",
              "      <th></th>\n",
              "      <th>Dшт</th>\n",
              "      <th>Руст</th>\n",
              "      <th>Руст.1</th>\n",
              "      <th>Туст</th>\n",
              "      <th>Дебит газа</th>\n",
              "      <th>Дебит ст. конд.</th>\n",
              "      <th>Дебит воды</th>\n",
              "      <th>Нэф</th>\n",
              "      <th>Pсб</th>\n",
              "      <th>Pсб.1</th>\n",
              "      <th>Ro_c</th>\n",
              "      <th>Удельная плотность газа</th>\n",
              "      <th>G_total</th>\n",
              "      <th>КГФ</th>\n",
              "    </tr>\n",
              "  </thead>\n",
              "  <tbody>\n",
              "    <tr>\n",
              "      <th>Dшт</th>\n",
              "      <td>1.000000</td>\n",
              "      <td>0.386698</td>\n",
              "      <td>0.389556</td>\n",
              "      <td>0.542294</td>\n",
              "      <td>0.865622</td>\n",
              "      <td>0.621313</td>\n",
              "      <td>0.536016</td>\n",
              "      <td>0.167398</td>\n",
              "      <td>0.027716</td>\n",
              "      <td>0.027716</td>\n",
              "      <td>0.093584</td>\n",
              "      <td>0.194179</td>\n",
              "      <td>0.735355</td>\n",
              "      <td>0.231636</td>\n",
              "    </tr>\n",
              "    <tr>\n",
              "      <th>Руст</th>\n",
              "      <td>0.386698</td>\n",
              "      <td>1.000000</td>\n",
              "      <td>0.999288</td>\n",
              "      <td>0.107952</td>\n",
              "      <td>0.068104</td>\n",
              "      <td>0.307248</td>\n",
              "      <td>0.099397</td>\n",
              "      <td>0.208647</td>\n",
              "      <td>0.174191</td>\n",
              "      <td>0.174191</td>\n",
              "      <td>0.109322</td>\n",
              "      <td>0.380945</td>\n",
              "      <td>0.115329</td>\n",
              "      <td>0.494718</td>\n",
              "    </tr>\n",
              "    <tr>\n",
              "      <th>Руст.1</th>\n",
              "      <td>0.389556</td>\n",
              "      <td>0.999288</td>\n",
              "      <td>1.000000</td>\n",
              "      <td>0.108682</td>\n",
              "      <td>0.066578</td>\n",
              "      <td>0.299897</td>\n",
              "      <td>0.098633</td>\n",
              "      <td>0.200159</td>\n",
              "      <td>0.174389</td>\n",
              "      <td>0.174389</td>\n",
              "      <td>0.113124</td>\n",
              "      <td>0.383703</td>\n",
              "      <td>0.125809</td>\n",
              "      <td>0.481088</td>\n",
              "    </tr>\n",
              "    <tr>\n",
              "      <th>Туст</th>\n",
              "      <td>0.542294</td>\n",
              "      <td>0.107952</td>\n",
              "      <td>0.108682</td>\n",
              "      <td>1.000000</td>\n",
              "      <td>0.657424</td>\n",
              "      <td>0.538248</td>\n",
              "      <td>0.554249</td>\n",
              "      <td>0.343119</td>\n",
              "      <td>0.473788</td>\n",
              "      <td>0.473788</td>\n",
              "      <td>0.198077</td>\n",
              "      <td>0.395451</td>\n",
              "      <td>0.689091</td>\n",
              "      <td>0.170377</td>\n",
              "    </tr>\n",
              "    <tr>\n",
              "      <th>Дебит газа</th>\n",
              "      <td>0.865622</td>\n",
              "      <td>0.068104</td>\n",
              "      <td>0.066578</td>\n",
              "      <td>0.657424</td>\n",
              "      <td>1.000000</td>\n",
              "      <td>0.836553</td>\n",
              "      <td>0.641696</td>\n",
              "      <td>0.291002</td>\n",
              "      <td>0.067155</td>\n",
              "      <td>0.067155</td>\n",
              "      <td>0.069634</td>\n",
              "      <td>0.342555</td>\n",
              "      <td>0.993426</td>\n",
              "      <td>0.044515</td>\n",
              "    </tr>\n",
              "    <tr>\n",
              "      <th>Дебит ст. конд.</th>\n",
              "      <td>0.621313</td>\n",
              "      <td>0.307248</td>\n",
              "      <td>0.299897</td>\n",
              "      <td>0.538248</td>\n",
              "      <td>0.836553</td>\n",
              "      <td>1.000000</td>\n",
              "      <td>0.518666</td>\n",
              "      <td>0.357679</td>\n",
              "      <td>0.074457</td>\n",
              "      <td>0.074457</td>\n",
              "      <td>0.086055</td>\n",
              "      <td>0.335353</td>\n",
              "      <td>0.966527</td>\n",
              "      <td>0.458866</td>\n",
              "    </tr>\n",
              "    <tr>\n",
              "      <th>Дебит воды</th>\n",
              "      <td>0.536016</td>\n",
              "      <td>0.099397</td>\n",
              "      <td>0.098633</td>\n",
              "      <td>0.554249</td>\n",
              "      <td>0.641696</td>\n",
              "      <td>0.518666</td>\n",
              "      <td>1.000000</td>\n",
              "      <td>0.103691</td>\n",
              "      <td>0.317671</td>\n",
              "      <td>0.317671</td>\n",
              "      <td>0.042349</td>\n",
              "      <td>0.255689</td>\n",
              "      <td>0.842481</td>\n",
              "      <td>0.150919</td>\n",
              "    </tr>\n",
              "    <tr>\n",
              "      <th>Нэф</th>\n",
              "      <td>0.167398</td>\n",
              "      <td>0.208647</td>\n",
              "      <td>0.200159</td>\n",
              "      <td>0.343119</td>\n",
              "      <td>0.291002</td>\n",
              "      <td>0.357679</td>\n",
              "      <td>0.103691</td>\n",
              "      <td>1.000000</td>\n",
              "      <td>0.250150</td>\n",
              "      <td>0.250150</td>\n",
              "      <td>0.111661</td>\n",
              "      <td>0.051892</td>\n",
              "      <td>0.450412</td>\n",
              "      <td>0.140222</td>\n",
              "    </tr>\n",
              "    <tr>\n",
              "      <th>Pсб</th>\n",
              "      <td>0.027716</td>\n",
              "      <td>0.174191</td>\n",
              "      <td>0.174389</td>\n",
              "      <td>0.473788</td>\n",
              "      <td>0.067155</td>\n",
              "      <td>0.074457</td>\n",
              "      <td>0.317671</td>\n",
              "      <td>0.250150</td>\n",
              "      <td>1.000000</td>\n",
              "      <td>1.000000</td>\n",
              "      <td>0.131570</td>\n",
              "      <td>0.035813</td>\n",
              "      <td>0.113662</td>\n",
              "      <td>0.026800</td>\n",
              "    </tr>\n",
              "    <tr>\n",
              "      <th>Pсб.1</th>\n",
              "      <td>0.027716</td>\n",
              "      <td>0.174191</td>\n",
              "      <td>0.174389</td>\n",
              "      <td>0.473788</td>\n",
              "      <td>0.067155</td>\n",
              "      <td>0.074457</td>\n",
              "      <td>0.317671</td>\n",
              "      <td>0.250150</td>\n",
              "      <td>1.000000</td>\n",
              "      <td>1.000000</td>\n",
              "      <td>0.131570</td>\n",
              "      <td>0.035813</td>\n",
              "      <td>0.113662</td>\n",
              "      <td>0.026800</td>\n",
              "    </tr>\n",
              "    <tr>\n",
              "      <th>Ro_c</th>\n",
              "      <td>0.093584</td>\n",
              "      <td>0.109322</td>\n",
              "      <td>0.113124</td>\n",
              "      <td>0.198077</td>\n",
              "      <td>0.069634</td>\n",
              "      <td>0.086055</td>\n",
              "      <td>0.042349</td>\n",
              "      <td>0.111661</td>\n",
              "      <td>0.131570</td>\n",
              "      <td>0.131570</td>\n",
              "      <td>1.000000</td>\n",
              "      <td>0.013550</td>\n",
              "      <td>0.233149</td>\n",
              "      <td>0.068622</td>\n",
              "    </tr>\n",
              "    <tr>\n",
              "      <th>Удельная плотность газа</th>\n",
              "      <td>0.194179</td>\n",
              "      <td>0.380945</td>\n",
              "      <td>0.383703</td>\n",
              "      <td>0.395451</td>\n",
              "      <td>0.342555</td>\n",
              "      <td>0.335353</td>\n",
              "      <td>0.255689</td>\n",
              "      <td>0.051892</td>\n",
              "      <td>0.035813</td>\n",
              "      <td>0.035813</td>\n",
              "      <td>0.013550</td>\n",
              "      <td>1.000000</td>\n",
              "      <td>0.400391</td>\n",
              "      <td>0.115922</td>\n",
              "    </tr>\n",
              "    <tr>\n",
              "      <th>G_total</th>\n",
              "      <td>0.735355</td>\n",
              "      <td>0.115329</td>\n",
              "      <td>0.125809</td>\n",
              "      <td>0.689091</td>\n",
              "      <td>0.993426</td>\n",
              "      <td>0.966527</td>\n",
              "      <td>0.842481</td>\n",
              "      <td>0.450412</td>\n",
              "      <td>0.113662</td>\n",
              "      <td>0.113662</td>\n",
              "      <td>0.233149</td>\n",
              "      <td>0.400391</td>\n",
              "      <td>1.000000</td>\n",
              "      <td>0.009890</td>\n",
              "    </tr>\n",
              "    <tr>\n",
              "      <th>КГФ</th>\n",
              "      <td>0.231636</td>\n",
              "      <td>0.494718</td>\n",
              "      <td>0.481088</td>\n",
              "      <td>0.170377</td>\n",
              "      <td>0.044515</td>\n",
              "      <td>0.458866</td>\n",
              "      <td>0.150919</td>\n",
              "      <td>0.140222</td>\n",
              "      <td>0.026800</td>\n",
              "      <td>0.026800</td>\n",
              "      <td>0.068622</td>\n",
              "      <td>0.115922</td>\n",
              "      <td>0.009890</td>\n",
              "      <td>1.000000</td>\n",
              "    </tr>\n",
              "  </tbody>\n",
              "</table>\n",
              "</div>\n",
              "      <button class=\"colab-df-convert\" onclick=\"convertToInteractive('df-6a7556e0-4c1e-4757-9dad-c29635908a9a')\"\n",
              "              title=\"Convert this dataframe to an interactive table.\"\n",
              "              style=\"display:none;\">\n",
              "        \n",
              "  <svg xmlns=\"http://www.w3.org/2000/svg\" height=\"24px\"viewBox=\"0 0 24 24\"\n",
              "       width=\"24px\">\n",
              "    <path d=\"M0 0h24v24H0V0z\" fill=\"none\"/>\n",
              "    <path d=\"M18.56 5.44l.94 2.06.94-2.06 2.06-.94-2.06-.94-.94-2.06-.94 2.06-2.06.94zm-11 1L8.5 8.5l.94-2.06 2.06-.94-2.06-.94L8.5 2.5l-.94 2.06-2.06.94zm10 10l.94 2.06.94-2.06 2.06-.94-2.06-.94-.94-2.06-.94 2.06-2.06.94z\"/><path d=\"M17.41 7.96l-1.37-1.37c-.4-.4-.92-.59-1.43-.59-.52 0-1.04.2-1.43.59L10.3 9.45l-7.72 7.72c-.78.78-.78 2.05 0 2.83L4 21.41c.39.39.9.59 1.41.59.51 0 1.02-.2 1.41-.59l7.78-7.78 2.81-2.81c.8-.78.8-2.07 0-2.86zM5.41 20L4 18.59l7.72-7.72 1.47 1.35L5.41 20z\"/>\n",
              "  </svg>\n",
              "      </button>\n",
              "      \n",
              "  <style>\n",
              "    .colab-df-container {\n",
              "      display:flex;\n",
              "      flex-wrap:wrap;\n",
              "      gap: 12px;\n",
              "    }\n",
              "\n",
              "    .colab-df-convert {\n",
              "      background-color: #E8F0FE;\n",
              "      border: none;\n",
              "      border-radius: 50%;\n",
              "      cursor: pointer;\n",
              "      display: none;\n",
              "      fill: #1967D2;\n",
              "      height: 32px;\n",
              "      padding: 0 0 0 0;\n",
              "      width: 32px;\n",
              "    }\n",
              "\n",
              "    .colab-df-convert:hover {\n",
              "      background-color: #E2EBFA;\n",
              "      box-shadow: 0px 1px 2px rgba(60, 64, 67, 0.3), 0px 1px 3px 1px rgba(60, 64, 67, 0.15);\n",
              "      fill: #174EA6;\n",
              "    }\n",
              "\n",
              "    [theme=dark] .colab-df-convert {\n",
              "      background-color: #3B4455;\n",
              "      fill: #D2E3FC;\n",
              "    }\n",
              "\n",
              "    [theme=dark] .colab-df-convert:hover {\n",
              "      background-color: #434B5C;\n",
              "      box-shadow: 0px 1px 3px 1px rgba(0, 0, 0, 0.15);\n",
              "      filter: drop-shadow(0px 1px 2px rgba(0, 0, 0, 0.3));\n",
              "      fill: #FFFFFF;\n",
              "    }\n",
              "  </style>\n",
              "\n",
              "      <script>\n",
              "        const buttonEl =\n",
              "          document.querySelector('#df-6a7556e0-4c1e-4757-9dad-c29635908a9a button.colab-df-convert');\n",
              "        buttonEl.style.display =\n",
              "          google.colab.kernel.accessAllowed ? 'block' : 'none';\n",
              "\n",
              "        async function convertToInteractive(key) {\n",
              "          const element = document.querySelector('#df-6a7556e0-4c1e-4757-9dad-c29635908a9a');\n",
              "          const dataTable =\n",
              "            await google.colab.kernel.invokeFunction('convertToInteractive',\n",
              "                                                     [key], {});\n",
              "          if (!dataTable) return;\n",
              "\n",
              "          const docLinkHtml = 'Like what you see? Visit the ' +\n",
              "            '<a target=\"_blank\" href=https://colab.research.google.com/notebooks/data_table.ipynb>data table notebook</a>'\n",
              "            + ' to learn more about interactive tables.';\n",
              "          element.innerHTML = '';\n",
              "          dataTable['output_type'] = 'display_data';\n",
              "          await google.colab.output.renderOutput(dataTable, element);\n",
              "          const docLink = document.createElement('div');\n",
              "          docLink.innerHTML = docLinkHtml;\n",
              "          element.appendChild(docLink);\n",
              "        }\n",
              "      </script>\n",
              "    </div>\n",
              "  </div>\n",
              "  "
            ]
          },
          "metadata": {},
          "execution_count": 8
        }
      ]
    },
    {
      "cell_type": "code",
      "source": [
        "sns.heatmap(np.abs(df_less_missing_rows.corr()))"
      ],
      "metadata": {
        "colab": {
          "base_uri": "https://localhost:8080/",
          "height": 413
        },
        "id": "VB3vfkAs1Axg",
        "outputId": "28574923-75c0-4a4f-ad9c-0f93a23d23e0"
      },
      "execution_count": 9,
      "outputs": [
        {
          "output_type": "execute_result",
          "data": {
            "text/plain": [
              "<matplotlib.axes._subplots.AxesSubplot at 0x7fca61480b10>"
            ]
          },
          "metadata": {},
          "execution_count": 9
        },
        {
          "output_type": "display_data",
          "data": {
            "text/plain": [
              "<Figure size 432x288 with 2 Axes>"
            ],
            "image/png": "[encoded data removed]"
          },
          "metadata": {
            "needs_background": "light"
          }
        }
      ]
    },
    {
      "cell_type": "code",
      "source": [
        "def info_printer(f):\n",
        "  sns_plot = sns.distplot(f)\n",
        "  fig = sns_plot.get_figure()\n",
        "  plt.axvline(x = f.quantile(0.25), color = 'g')\n",
        "  plt.axvline(x = f.quantile(0.75), color = 'g')\n",
        "  plt.show\n",
        "  print(\"Пропущено:\\t\", round(f.isna().sum() / f.size * 100, 3), \"%\")\n",
        "  print(\"Мощность:\\t\", f.nunique())\n",
        "  print(\"Среднее:\\t\", round(f.mean(), 3))\n",
        "  print(\"Минимум:\\t\", round(f.min(), 3))\n",
        "  print(\"Максимум:\\t\", round(f.max(), 3))\n",
        "  print(\"1 кваниль:\\t\", round(f.quantile(0.25), 3))\n",
        "  print(\"Медиана:\\t\", round(f.quantile(0.5), 3))\n",
        "  print(\"3 квантиль:\\t\", round(f.quantile(0.75), 3))\n",
        "  print(\"Кварт. размах:\\t\", round(f.quantile(0.75) - f.quantile(0.25), 3))\n",
        "  print(\"Стандарт.откл:\\t\", round(f.std(), 3))"
      ],
      "metadata": {
        "id": "aXnoTtpLzwtp"
      },
      "execution_count": 10,
      "outputs": []
    },
    {
      "cell_type": "code",
      "source": [
        "info_printer(df_less_missing_rows['Глубина манометра'])"
      ],
      "metadata": {
        "colab": {
          "base_uri": "https://localhost:8080/",
          "height": 507
        },
        "id": "47DcHbtu91S0",
        "outputId": "a7cacc29-a94d-4ef7-b3cc-2ce7655fc2e8"
      },
      "execution_count": 26,
      "outputs": [
        {
          "output_type": "stream",
          "name": "stderr",
          "text": [
            "/usr/local/lib/python3.7/dist-packages/seaborn/distributions.py:2619: FutureWarning: `distplot` is a deprecated function and will be removed in a future version. Please adapt your code to use either `displot` (a figure-level function with similar flexibility) or `histplot` (an axes-level function for histograms).\n",
            "  warnings.warn(msg, FutureWarning)\n"
          ]
        },
        {
          "output_type": "stream",
          "name": "stdout",
          "text": [
            "Пропущено:\t 3.226 %\n",
            "Мощность:\t 20\n",
            "Среднее:\t 3524.087\n",
            "Минимум:\t 3276\n",
            "Максимум:\t 3670\n",
            "1 кваниль:\t 3427.625\n",
            "Медиана:\t 3579.0\n",
            "3 квантиль:\t 3652.25\n",
            "Кварт. размах:\t 224.625\n",
            "Стандарт.откл:\t 144.475\n"
          ]
        },
        {
          "output_type": "display_data",
          "data": {
            "text/plain": [
              "<Figure size 432x288 with 1 Axes>"
            ],
            "image/png": "[encoded data removed]"
          },
          "metadata": {
            "needs_background": "light"
          }
        }
      ]
    },
    {
      "cell_type": "code",
      "source": [
        "info_printer(df_less_missing_rows['Dшт'])"
      ],
      "metadata": {
        "colab": {
          "base_uri": "https://localhost:8080/",
          "height": 507
        },
        "id": "7JUGtqWw9pqK",
        "outputId": "460653fb-3526-4d45-b8cf-4596d5d41e91"
      },
      "execution_count": null,
      "outputs": [
        {
          "output_type": "stream",
          "name": "stderr",
          "text": [
            "/usr/local/lib/python3.7/dist-packages/seaborn/distributions.py:2619: FutureWarning: `distplot` is a deprecated function and will be removed in a future version. Please adapt your code to use either `displot` (a figure-level function with similar flexibility) or `histplot` (an axes-level function for histograms).\n",
            "  warnings.warn(msg, FutureWarning)\n"
          ]
        },
        {
          "output_type": "stream",
          "name": "stdout",
          "text": [
            "Пропущено:\t 0.0 %\n",
            "Мощность:\t 10\n",
            "Среднее:\t 10.951\n",
            "Минимум:\t 6.35\n",
            "Максимум:\t 15.88\n",
            "1 кваниль:\t 9.53\n",
            "Медиана:\t 11.11\n",
            "3 квантиль:\t 12.7\n",
            "Кварт. размах:\t 3.17\n",
            "Стандарт.откл:\t 2.423\n"
          ]
        },
        {
          "output_type": "display_data",
          "data": {
            "text/plain": [
              "<Figure size 432x288 with 1 Axes>"
            ],
            "image/png": "[encoded data removed]"
          },
          "metadata": {
            "needs_background": "light"
          }
        }
      ]
    },
    {
      "cell_type": "code",
      "source": [
        "info_printer(df_less_missing_rows['Руст'])\n"
      ],
      "metadata": {
        "colab": {
          "base_uri": "https://localhost:8080/",
          "height": 507
        },
        "id": "Y-1NUs3X-efK",
        "outputId": "5fceb706-852c-4728-9358-e16bb822c310"
      },
      "execution_count": null,
      "outputs": [
        {
          "output_type": "stream",
          "name": "stderr",
          "text": [
            "/usr/local/lib/python3.7/dist-packages/seaborn/distributions.py:2619: FutureWarning: `distplot` is a deprecated function and will be removed in a future version. Please adapt your code to use either `displot` (a figure-level function with similar flexibility) or `histplot` (an axes-level function for histograms).\n",
            "  warnings.warn(msg, FutureWarning)\n"
          ]
        },
        {
          "output_type": "stream",
          "name": "stdout",
          "text": [
            "Пропущено:\t 0.0 %\n",
            "Мощность:\t 87\n",
            "Среднее:\t 228.293\n",
            "Минимум:\t 138.158\n",
            "Максимум:\t 337.108\n",
            "1 кваниль:\t 201.637\n",
            "Медиана:\t 229.895\n",
            "3 квантиль:\t 252.0\n",
            "Кварт. размах:\t 50.363\n",
            "Стандарт.откл:\t 41.897\n"
          ]
        },
        {
          "output_type": "display_data",
          "data": {
            "text/plain": [
              "<Figure size 432x288 with 1 Axes>"
            ],
            "image/png": "[encoded data removed]"
          },
          "metadata": {
            "needs_background": "light"
          }
        }
      ]
    },
    {
      "cell_type": "code",
      "source": [
        "info_printer(df_less_missing_rows['Рзаб'])\n"
      ],
      "metadata": {
        "colab": {
          "base_uri": "https://localhost:8080/",
          "height": 507
        },
        "id": "MNCxUvc6_yxK",
        "outputId": "ba5c4d1f-81bd-4731-e24c-db4d9cf67ebc"
      },
      "execution_count": null,
      "outputs": [
        {
          "output_type": "stream",
          "name": "stderr",
          "text": [
            "/usr/local/lib/python3.7/dist-packages/seaborn/distributions.py:2619: FutureWarning: `distplot` is a deprecated function and will be removed in a future version. Please adapt your code to use either `displot` (a figure-level function with similar flexibility) or `histplot` (an axes-level function for histograms).\n",
            "  warnings.warn(msg, FutureWarning)\n"
          ]
        },
        {
          "output_type": "stream",
          "name": "stdout",
          "text": [
            "Пропущено:\t 3.226 %\n",
            "Мощность:\t 88\n",
            "Среднее:\t 331.762\n",
            "Минимум:\t 174\n",
            "Максимум:\t 458.6\n",
            "1 кваниль:\t 297.798\n",
            "Медиана:\t 337.789\n",
            "3 квантиль:\t 364.15\n",
            "Кварт. размах:\t 66.353\n",
            "Стандарт.откл:\t 56.481\n"
          ]
        },
        {
          "output_type": "display_data",
          "data": {
            "text/plain": [
              "<Figure size 432x288 with 1 Axes>"
            ],
            "image/png": "[encoded data removed]"
          },
          "metadata": {
            "needs_background": "light"
          }
        }
      ]
    },
    {
      "cell_type": "code",
      "source": [
        "info_printer(df_less_missing_rows['Pлин'])"
      ],
      "metadata": {
        "colab": {
          "base_uri": "https://localhost:8080/",
          "height": 507
        },
        "id": "Bk-J2SD7_3H6",
        "outputId": "d6e99712-fc2b-4e0d-a8bc-43cf4345f02d"
      },
      "execution_count": null,
      "outputs": [
        {
          "output_type": "stream",
          "name": "stderr",
          "text": [
            "/usr/local/lib/python3.7/dist-packages/seaborn/distributions.py:2619: FutureWarning: `distplot` is a deprecated function and will be removed in a future version. Please adapt your code to use either `displot` (a figure-level function with similar flexibility) or `histplot` (an axes-level function for histograms).\n",
            "  warnings.warn(msg, FutureWarning)\n"
          ]
        },
        {
          "output_type": "stream",
          "name": "stdout",
          "text": [
            "Пропущено:\t 0.0 %\n",
            "Мощность:\t 91\n",
            "Среднее:\t 99.861\n",
            "Минимум:\t 73.307\n",
            "Максимум:\t 121.683\n",
            "1 кваниль:\t 95.946\n",
            "Медиана:\t 100.8\n",
            "3 квантиль:\t 103.865\n",
            "Кварт. размах:\t 7.919\n",
            "Стандарт.откл:\t 7.301\n"
          ]
        },
        {
          "output_type": "display_data",
          "data": {
            "text/plain": [
              "<Figure size 432x288 with 1 Axes>"
            ],
            "image/png": "[encoded data removed]"
          },
          "metadata": {
            "needs_background": "light"
          }
        }
      ]
    },
    {
      "cell_type": "code",
      "source": [
        "info_printer(df_less_missing_rows['Руст.1'])"
      ],
      "metadata": {
        "colab": {
          "base_uri": "https://localhost:8080/",
          "height": 507
        },
        "id": "gZjQHYg6_7LL",
        "outputId": "07e48ff7-d03b-49c0-e031-1f5876de9489"
      },
      "execution_count": null,
      "outputs": [
        {
          "output_type": "stream",
          "name": "stderr",
          "text": [
            "/usr/local/lib/python3.7/dist-packages/seaborn/distributions.py:2619: FutureWarning: `distplot` is a deprecated function and will be removed in a future version. Please adapt your code to use either `displot` (a figure-level function with similar flexibility) or `histplot` (an axes-level function for histograms).\n",
            "  warnings.warn(msg, FutureWarning)\n"
          ]
        },
        {
          "output_type": "stream",
          "name": "stdout",
          "text": [
            "Пропущено:\t 0.0 %\n",
            "Мощность:\t 73\n",
            "Среднее:\t 227.644\n",
            "Минимум:\t 136.0\n",
            "Максимум:\t 333.0\n",
            "1 кваниль:\t 200.0\n",
            "Медиана:\t 228.0\n",
            "3 квантиль:\t 252.0\n",
            "Кварт. размах:\t 52.0\n",
            "Стандарт.откл:\t 41.757\n"
          ]
        },
        {
          "output_type": "display_data",
          "data": {
            "text/plain": [
              "<Figure size 432x288 with 1 Axes>"
            ],
            "image/png": "[encoded data removed]"
          },
          "metadata": {
            "needs_background": "light"
          }
        }
      ]
    },
    {
      "cell_type": "code",
      "source": [
        "info_printer(df_less_missing_rows['Рзаб.1'])"
      ],
      "metadata": {
        "colab": {
          "base_uri": "https://localhost:8080/",
          "height": 507
        },
        "id": "RAn_P2EW_-7J",
        "outputId": "76e98839-07f2-4cea-89b3-a478a95aa72e"
      },
      "execution_count": null,
      "outputs": [
        {
          "output_type": "stream",
          "name": "stderr",
          "text": [
            "/usr/local/lib/python3.7/dist-packages/seaborn/distributions.py:2619: FutureWarning: `distplot` is a deprecated function and will be removed in a future version. Please adapt your code to use either `displot` (a figure-level function with similar flexibility) or `histplot` (an axes-level function for histograms).\n",
            "  warnings.warn(msg, FutureWarning)\n"
          ]
        },
        {
          "output_type": "stream",
          "name": "stdout",
          "text": [
            "Пропущено:\t 3.226 %\n",
            "Мощность:\t 89\n",
            "Среднее:\t 330.334\n",
            "Минимум:\t 174\n",
            "Максимум:\t 458.5\n",
            "1 кваниль:\t 294.625\n",
            "Медиана:\t 334.25\n",
            "3 квантиль:\t 362.15\n",
            "Кварт. размах:\t 67.525\n",
            "Стандарт.откл:\t 56.357\n"
          ]
        },
        {
          "output_type": "display_data",
          "data": {
            "text/plain": [
              "<Figure size 432x288 with 1 Axes>"
            ],
            "image/png": "[encoded data removed]"
          },
          "metadata": {
            "needs_background": "light"
          }
        }
      ]
    },
    {
      "cell_type": "code",
      "source": [
        "info_printer(df_less_missing_rows['Рлин'])"
      ],
      "metadata": {
        "colab": {
          "base_uri": "https://localhost:8080/",
          "height": 507
        },
        "id": "VAdcq5DkAC5r",
        "outputId": "90b57c97-a84f-4345-f7dc-fad1b6b0ea65"
      },
      "execution_count": null,
      "outputs": [
        {
          "output_type": "stream",
          "name": "stderr",
          "text": [
            "/usr/local/lib/python3.7/dist-packages/seaborn/distributions.py:2619: FutureWarning: `distplot` is a deprecated function and will be removed in a future version. Please adapt your code to use either `displot` (a figure-level function with similar flexibility) or `histplot` (an axes-level function for histograms).\n",
            "  warnings.warn(msg, FutureWarning)\n"
          ]
        },
        {
          "output_type": "stream",
          "name": "stdout",
          "text": [
            "Пропущено:\t 0.0 %\n",
            "Мощность:\t 88\n",
            "Среднее:\t 98.005\n",
            "Минимум:\t 40.74\n",
            "Максимум:\t 123.617\n",
            "1 кваниль:\t 95.335\n",
            "Медиана:\t 100.26\n",
            "3 квантиль:\t 104.0\n",
            "Кварт. размах:\t 8.665\n",
            "Стандарт.откл:\t 12.426\n"
          ]
        },
        {
          "output_type": "display_data",
          "data": {
            "text/plain": [
              "<Figure size 432x288 with 1 Axes>"
            ],
            "image/png": "[encoded data removed]"
          },
          "metadata": {
            "needs_background": "light"
          }
        }
      ]
    },
    {
      "cell_type": "code",
      "source": [
        "info_printer(df_less_missing_rows['Туст'])"
      ],
      "metadata": {
        "colab": {
          "base_uri": "https://localhost:8080/",
          "height": 507
        },
        "id": "TsJxNnPYAHRi",
        "outputId": "2900b27e-746d-4c3b-ca6d-0a8a49e77573"
      },
      "execution_count": null,
      "outputs": [
        {
          "output_type": "stream",
          "name": "stderr",
          "text": [
            "/usr/local/lib/python3.7/dist-packages/seaborn/distributions.py:2619: FutureWarning: `distplot` is a deprecated function and will be removed in a future version. Please adapt your code to use either `displot` (a figure-level function with similar flexibility) or `histplot` (an axes-level function for histograms).\n",
            "  warnings.warn(msg, FutureWarning)\n"
          ]
        },
        {
          "output_type": "stream",
          "name": "stdout",
          "text": [
            "Пропущено:\t 0.0 %\n",
            "Мощность:\t 51\n",
            "Среднее:\t 56.172\n",
            "Минимум:\t 24.2\n",
            "Максимум:\t 75.0\n",
            "1 кваниль:\t 50.3\n",
            "Медиана:\t 58.0\n",
            "3 квантиль:\t 64.0\n",
            "Кварт. размах:\t 13.7\n",
            "Стандарт.откл:\t 11.251\n"
          ]
        },
        {
          "output_type": "display_data",
          "data": {
            "text/plain": [
              "<Figure size 432x288 with 1 Axes>"
            ],
            "image/png": "[encoded data removed]"
          },
          "metadata": {
            "needs_background": "light"
          }
        }
      ]
    },
    {
      "cell_type": "code",
      "source": [
        "info_printer(df_less_missing_rows['Тна шлейфе'])"
      ],
      "metadata": {
        "colab": {
          "base_uri": "https://localhost:8080/",
          "height": 507
        },
        "id": "MeHNm9vhAMFt",
        "outputId": "1a6acc1a-6563-4fae-fdd3-9b30f62ba989"
      },
      "execution_count": null,
      "outputs": [
        {
          "output_type": "stream",
          "name": "stderr",
          "text": [
            "/usr/local/lib/python3.7/dist-packages/seaborn/distributions.py:2619: FutureWarning: `distplot` is a deprecated function and will be removed in a future version. Please adapt your code to use either `displot` (a figure-level function with similar flexibility) or `histplot` (an axes-level function for histograms).\n",
            "  warnings.warn(msg, FutureWarning)\n"
          ]
        },
        {
          "output_type": "stream",
          "name": "stdout",
          "text": [
            "Пропущено:\t 35.484 %\n",
            "Мощность:\t 57\n",
            "Среднее:\t 43.092\n",
            "Минимум:\t 14\n",
            "Максимум:\t 110.2\n",
            "1 кваниль:\t 33.3\n",
            "Медиана:\t 38.7\n",
            "3 квантиль:\t 46.375\n",
            "Кварт. размах:\t 13.075\n",
            "Стандарт.откл:\t 19.602\n"
          ]
        },
        {
          "output_type": "display_data",
          "data": {
            "text/plain": [
              "<Figure size 432x288 with 1 Axes>"
            ],
            "image/png": "[encoded data removed]"
          },
          "metadata": {
            "needs_background": "light"
          }
        }
      ]
    },
    {
      "cell_type": "code",
      "source": [
        "info_printer(df_less_missing_rows['Тзаб'])"
      ],
      "metadata": {
        "colab": {
          "base_uri": "https://localhost:8080/",
          "height": 507
        },
        "id": "jU57KFdUAUqi",
        "outputId": "da0c4729-e98c-463b-8a23-5cc11974d860"
      },
      "execution_count": null,
      "outputs": [
        {
          "output_type": "stream",
          "name": "stderr",
          "text": [
            "/usr/local/lib/python3.7/dist-packages/seaborn/distributions.py:2619: FutureWarning: `distplot` is a deprecated function and will be removed in a future version. Please adapt your code to use either `displot` (a figure-level function with similar flexibility) or `histplot` (an axes-level function for histograms).\n",
            "  warnings.warn(msg, FutureWarning)\n"
          ]
        },
        {
          "output_type": "stream",
          "name": "stdout",
          "text": [
            "Пропущено:\t 3.226 %\n",
            "Мощность:\t 68\n",
            "Среднее:\t 104.961\n",
            "Минимум:\t 100.21\n",
            "Максимум:\t 107.071\n",
            "1 кваниль:\t 104.525\n",
            "Медиана:\t 105.11\n",
            "3 квантиль:\t 105.567\n",
            "Кварт. размах:\t 1.042\n",
            "Стандарт.откл:\t 1.251\n"
          ]
        },
        {
          "output_type": "display_data",
          "data": {
            "text/plain": [
              "<Figure size 432x288 with 1 Axes>"
            ],
            "image/png": "[encoded data removed]"
          },
          "metadata": {
            "needs_background": "light"
          }
        }
      ]
    },
    {
      "cell_type": "code",
      "source": [
        "info_printer(df_less_missing_rows['Tлин'])"
      ],
      "metadata": {
        "colab": {
          "base_uri": "https://localhost:8080/",
          "height": 507
        },
        "id": "FRHqvrczAZ9c",
        "outputId": "b4812a3f-ab70-4b5b-ad4e-5ac9c444c3b3"
      },
      "execution_count": null,
      "outputs": [
        {
          "output_type": "stream",
          "name": "stderr",
          "text": [
            "/usr/local/lib/python3.7/dist-packages/seaborn/distributions.py:2619: FutureWarning: `distplot` is a deprecated function and will be removed in a future version. Please adapt your code to use either `displot` (a figure-level function with similar flexibility) or `histplot` (an axes-level function for histograms).\n",
            "  warnings.warn(msg, FutureWarning)\n"
          ]
        },
        {
          "output_type": "stream",
          "name": "stdout",
          "text": [
            "Пропущено:\t 0.0 %\n",
            "Мощность:\t 89\n",
            "Среднее:\t 39.798\n",
            "Минимум:\t 16.205\n",
            "Максимум:\t 55.514\n",
            "1 кваниль:\t 33.689\n",
            "Медиана:\t 40.519\n",
            "3 квантиль:\t 47.8\n",
            "Кварт. размах:\t 14.111\n",
            "Стандарт.откл:\t 8.938\n"
          ]
        },
        {
          "output_type": "display_data",
          "data": {
            "text/plain": [
              "<Figure size 432x288 with 1 Axes>"
            ],
            "image/png": "[encoded data removed]"
          },
          "metadata": {
            "needs_background": "light"
          }
        }
      ]
    },
    {
      "cell_type": "code",
      "source": [
        "info_printer(df_less_missing_rows['Дебит газа'])"
      ],
      "metadata": {
        "colab": {
          "base_uri": "https://localhost:8080/",
          "height": 507
        },
        "id": "WNUvKyHzAdoa",
        "outputId": "7837ba3f-bd37-4152-e0b2-a3f66dbd6a62"
      },
      "execution_count": null,
      "outputs": [
        {
          "output_type": "stream",
          "name": "stderr",
          "text": [
            "/usr/local/lib/python3.7/dist-packages/seaborn/distributions.py:2619: FutureWarning: `distplot` is a deprecated function and will be removed in a future version. Please adapt your code to use either `displot` (a figure-level function with similar flexibility) or `histplot` (an axes-level function for histograms).\n",
            "  warnings.warn(msg, FutureWarning)\n"
          ]
        },
        {
          "output_type": "stream",
          "name": "stdout",
          "text": [
            "Пропущено:\t 0.0 %\n",
            "Мощность:\t 93\n",
            "Среднее:\t 394.403\n",
            "Минимум:\t 128.366\n",
            "Максимум:\t 846.816\n",
            "1 кваниль:\t 287.95\n",
            "Медиана:\t 383.72\n",
            "3 квантиль:\t 489.673\n",
            "Кварт. размах:\t 201.723\n",
            "Стандарт.откл:\t 150.355\n"
          ]
        },
        {
          "output_type": "display_data",
          "data": {
            "text/plain": [
              "<Figure size 432x288 with 1 Axes>"
            ],
            "image/png": "[encoded data removed]"
          },
          "metadata": {
            "needs_background": "light"
          }
        }
      ]
    },
    {
      "cell_type": "code",
      "source": [
        "info_printer(df_less_missing_rows['Дебит ст. конд.'])"
      ],
      "metadata": {
        "colab": {
          "base_uri": "https://localhost:8080/",
          "height": 511
        },
        "id": "yxu3G9ZoAhAC",
        "outputId": "c29d137d-56ea-4969-edb1-4a833b2bb39e"
      },
      "execution_count": null,
      "outputs": [
        {
          "output_type": "stream",
          "name": "stderr",
          "text": [
            "/usr/local/lib/python3.7/dist-packages/seaborn/distributions.py:2619: FutureWarning: `distplot` is a deprecated function and will be removed in a future version. Please adapt your code to use either `displot` (a figure-level function with similar flexibility) or `histplot` (an axes-level function for histograms).\n",
            "  warnings.warn(msg, FutureWarning)\n"
          ]
        },
        {
          "output_type": "stream",
          "name": "stdout",
          "text": [
            "Пропущено:\t 0.0 %\n",
            "Мощность:\t 92\n",
            "Среднее:\t 99.91\n",
            "Минимум:\t 33.63\n",
            "Максимум:\t 302.621\n",
            "1 кваниль:\t 69.9\n",
            "Медиана:\t 89.8\n",
            "3 квантиль:\t 117.6\n",
            "Кварт. размах:\t 47.7\n",
            "Стандарт.откл:\t 49.141\n"
          ]
        },
        {
          "output_type": "display_data",
          "data": {
            "text/plain": [
              "<Figure size 432x288 with 1 Axes>"
            ],
            "image/png": "[encoded data removed]"
          },
          "metadata": {
            "needs_background": "light"
          }
        }
      ]
    },
    {
      "cell_type": "code",
      "source": [
        "info_printer(df_less_missing_rows['Дебит воды'])"
      ],
      "metadata": {
        "colab": {
          "base_uri": "https://localhost:8080/",
          "height": 507
        },
        "id": "8-F2uD9cAuia",
        "outputId": "df8cd5e4-8a36-4ed5-e7c5-287b3e5225b2"
      },
      "execution_count": null,
      "outputs": [
        {
          "output_type": "stream",
          "name": "stderr",
          "text": [
            "/usr/local/lib/python3.7/dist-packages/seaborn/distributions.py:2619: FutureWarning: `distplot` is a deprecated function and will be removed in a future version. Please adapt your code to use either `displot` (a figure-level function with similar flexibility) or `histplot` (an axes-level function for histograms).\n",
            "  warnings.warn(msg, FutureWarning)\n"
          ]
        },
        {
          "output_type": "stream",
          "name": "stdout",
          "text": [
            "Пропущено:\t 0.0 %\n",
            "Мощность:\t 77\n",
            "Среднее:\t 2.133\n",
            "Минимум:\t 0.0\n",
            "Максимум:\t 8.34\n",
            "1 кваниль:\t 0.7\n",
            "Медиана:\t 1.4\n",
            "3 квантиль:\t 3.2\n",
            "Кварт. размах:\t 2.5\n",
            "Стандарт.откл:\t 1.875\n"
          ]
        },
        {
          "output_type": "display_data",
          "data": {
            "text/plain": [
              "<Figure size 432x288 with 1 Axes>"
            ],
            "image/png": "[encoded data removed]"
          },
          "metadata": {
            "needs_background": "light"
          }
        }
      ]
    },
    {
      "cell_type": "code",
      "source": [
        "info_printer(df_less_missing_rows['Дебит смеси'])"
      ],
      "metadata": {
        "colab": {
          "base_uri": "https://localhost:8080/",
          "height": 507
        },
        "id": "fgQp11e4A0qi",
        "outputId": "0653aa16-6ca8-4fd2-ad5c-aaf06152661c"
      },
      "execution_count": null,
      "outputs": [
        {
          "output_type": "stream",
          "name": "stderr",
          "text": [
            "/usr/local/lib/python3.7/dist-packages/seaborn/distributions.py:2619: FutureWarning: `distplot` is a deprecated function and will be removed in a future version. Please adapt your code to use either `displot` (a figure-level function with similar flexibility) or `histplot` (an axes-level function for histograms).\n",
            "  warnings.warn(msg, FutureWarning)\n"
          ]
        },
        {
          "output_type": "stream",
          "name": "stdout",
          "text": [
            "Пропущено:\t 4.301 %\n",
            "Мощность:\t 89\n",
            "Среднее:\t 417.021\n",
            "Минимум:\t 136.815\n",
            "Максимум:\t 896.908\n",
            "1 кваниль:\t 306.243\n",
            "Медиана:\t 401.391\n",
            "3 квантиль:\t 509.047\n",
            "Кварт. размах:\t 202.804\n",
            "Стандарт.откл:\t 157.747\n"
          ]
        },
        {
          "output_type": "display_data",
          "data": {
            "text/plain": [
              "<Figure size 432x288 with 1 Axes>"
            ],
            "image/png": "[encoded data removed]"
          },
          "metadata": {
            "needs_background": "light"
          }
        }
      ]
    },
    {
      "cell_type": "code",
      "source": [
        "info_printer(df_less_missing_rows['Дебит гааз'])"
      ],
      "metadata": {
        "colab": {
          "base_uri": "https://localhost:8080/",
          "height": 507
        },
        "id": "unH-erL6A3Qz",
        "outputId": "4d7850ba-3443-4bbc-ebd7-96bdf5de496c"
      },
      "execution_count": null,
      "outputs": [
        {
          "output_type": "stream",
          "name": "stderr",
          "text": [
            "/usr/local/lib/python3.7/dist-packages/seaborn/distributions.py:2619: FutureWarning: `distplot` is a deprecated function and will be removed in a future version. Please adapt your code to use either `displot` (a figure-level function with similar flexibility) or `histplot` (an axes-level function for histograms).\n",
            "  warnings.warn(msg, FutureWarning)\n"
          ]
        },
        {
          "output_type": "stream",
          "name": "stdout",
          "text": [
            "Пропущено:\t 0.0 %\n",
            "Мощность:\t 92\n",
            "Среднее:\t 3282.971\n",
            "Минимум:\t 884\n",
            "Максимум:\t 6943.1\n",
            "1 кваниль:\t 2223.0\n",
            "Медиана:\t 3112.0\n",
            "3 квантиль:\t 4165.0\n",
            "Кварт. размах:\t 1942.0\n",
            "Стандарт.откл:\t 1353.044\n"
          ]
        },
        {
          "output_type": "display_data",
          "data": {
            "text/plain": [
              "<Figure size 432x288 with 1 Axes>"
            ],
            "image/png": "[encoded data removed]"
          },
          "metadata": {
            "needs_background": "light"
          }
        }
      ]
    },
    {
      "cell_type": "code",
      "source": [
        "info_printer(df_less_missing_rows['Дебит кон нестабильный'])"
      ],
      "metadata": {
        "colab": {
          "base_uri": "https://localhost:8080/",
          "height": 507
        },
        "id": "qk_vmCchA5eV",
        "outputId": "04e8c73a-829a-42e6-9125-d2826ee642be"
      },
      "execution_count": null,
      "outputs": [
        {
          "output_type": "stream",
          "name": "stderr",
          "text": [
            "/usr/local/lib/python3.7/dist-packages/seaborn/distributions.py:2619: FutureWarning: `distplot` is a deprecated function and will be removed in a future version. Please adapt your code to use either `displot` (a figure-level function with similar flexibility) or `histplot` (an axes-level function for histograms).\n",
            "  warnings.warn(msg, FutureWarning)\n"
          ]
        },
        {
          "output_type": "stream",
          "name": "stdout",
          "text": [
            "Пропущено:\t 0.0 %\n",
            "Мощность:\t 90\n",
            "Среднее:\t 164.152\n",
            "Минимум:\t 59.8\n",
            "Максимум:\t 492.8\n",
            "1 кваниль:\t 116.8\n",
            "Медиана:\t 143.5\n",
            "3 квантиль:\t 185.2\n",
            "Кварт. размах:\t 68.4\n",
            "Стандарт.откл:\t 85.225\n"
          ]
        },
        {
          "output_type": "display_data",
          "data": {
            "text/plain": [
              "<Figure size 432x288 with 1 Axes>"
            ],
            "image/png": "[encoded data removed]"
          },
          "metadata": {
            "needs_background": "light"
          }
        }
      ]
    },
    {
      "cell_type": "code",
      "source": [
        "info_printer(df_less_missing_rows['Дебит воды.1'])"
      ],
      "metadata": {
        "colab": {
          "base_uri": "https://localhost:8080/",
          "height": 507
        },
        "id": "ElA3iXFaA8CT",
        "outputId": "f8d60395-ce67-4532-95ac-b1a485d1e83a"
      },
      "execution_count": null,
      "outputs": [
        {
          "output_type": "stream",
          "name": "stderr",
          "text": [
            "/usr/local/lib/python3.7/dist-packages/seaborn/distributions.py:2619: FutureWarning: `distplot` is a deprecated function and will be removed in a future version. Please adapt your code to use either `displot` (a figure-level function with similar flexibility) or `histplot` (an axes-level function for histograms).\n",
            "  warnings.warn(msg, FutureWarning)\n"
          ]
        },
        {
          "output_type": "stream",
          "name": "stdout",
          "text": [
            "Пропущено:\t 0.0 %\n",
            "Мощность:\t 42\n",
            "Среднее:\t 2.163\n",
            "Минимум:\t 0\n",
            "Максимум:\t 8.1\n",
            "1 кваниль:\t 0.7\n",
            "Медиана:\t 1.4\n",
            "3 квантиль:\t 3.3\n",
            "Кварт. размах:\t 2.6\n",
            "Стандарт.откл:\t 1.903\n"
          ]
        },
        {
          "output_type": "display_data",
          "data": {
            "text/plain": [
              "<Figure size 432x288 with 1 Axes>"
            ],
            "image/png": "[encoded data removed]"
          },
          "metadata": {
            "needs_background": "light"
          }
        }
      ]
    },
    {
      "cell_type": "code",
      "source": [
        "info_printer(df_less_missing_rows['Нэф'])"
      ],
      "metadata": {
        "colab": {
          "base_uri": "https://localhost:8080/",
          "height": 508
        },
        "id": "elTiT3Z1A-dz",
        "outputId": "274e4584-521c-4d1d-d514-f054b86ffef6"
      },
      "execution_count": null,
      "outputs": [
        {
          "output_type": "stream",
          "name": "stderr",
          "text": [
            "/usr/local/lib/python3.7/dist-packages/seaborn/distributions.py:2619: FutureWarning: `distplot` is a deprecated function and will be removed in a future version. Please adapt your code to use either `displot` (a figure-level function with similar flexibility) or `histplot` (an axes-level function for histograms).\n",
            "  warnings.warn(msg, FutureWarning)\n"
          ]
        },
        {
          "output_type": "stream",
          "name": "stdout",
          "text": [
            "Пропущено:\t 0.0 %\n",
            "Мощность:\t 14\n",
            "Среднее:\t 52.703\n",
            "Минимум:\t 30.0\n",
            "Максимум:\t 72.54\n",
            "1 кваниль:\t 44.2\n",
            "Медиана:\t 56.8\n",
            "3 квантиль:\t 63.5\n",
            "Кварт. размах:\t 19.3\n",
            "Стандарт.откл:\t 12.149\n"
          ]
        },
        {
          "output_type": "display_data",
          "data": {
            "text/plain": [
              "<Figure size 432x288 with 1 Axes>"
            ],
            "image/png": "[encoded data removed]"
          },
          "metadata": {
            "needs_background": "light"
          }
        }
      ]
    },
    {
      "cell_type": "code",
      "source": [
        "info_printer(df_less_missing_rows['Рпл. Тек (послед точка на КВД)'])"
      ],
      "metadata": {
        "colab": {
          "base_uri": "https://localhost:8080/",
          "height": 507
        },
        "id": "5X4Eet0uBB6K",
        "outputId": "f30f34d3-2ef7-4ef5-aa48-b661de325d1c"
      },
      "execution_count": null,
      "outputs": [
        {
          "output_type": "stream",
          "name": "stderr",
          "text": [
            "/usr/local/lib/python3.7/dist-packages/seaborn/distributions.py:2619: FutureWarning: `distplot` is a deprecated function and will be removed in a future version. Please adapt your code to use either `displot` (a figure-level function with similar flexibility) or `histplot` (an axes-level function for histograms).\n",
            "  warnings.warn(msg, FutureWarning)\n"
          ]
        },
        {
          "output_type": "stream",
          "name": "stdout",
          "text": [
            "Пропущено:\t 5.376 %\n",
            "Мощность:\t 21\n",
            "Среднее:\t 40.683\n",
            "Минимум:\t 29.17\n",
            "Максимум:\t 53.27\n",
            "1 кваниль:\t 37.21\n",
            "Медиана:\t 39.466\n",
            "3 квантиль:\t 42.86\n",
            "Кварт. размах:\t 5.65\n",
            "Стандарт.откл:\t 5.374\n"
          ]
        },
        {
          "output_type": "display_data",
          "data": {
            "text/plain": [
              "<Figure size 432x288 with 1 Axes>"
            ],
            "image/png": "[encoded data removed]"
          },
          "metadata": {
            "needs_background": "light"
          }
        }
      ]
    },
    {
      "cell_type": "code",
      "source": [
        "info_printer(df_less_missing_rows['Рпл. Тек (Расчет по КВД)'])"
      ],
      "metadata": {
        "colab": {
          "base_uri": "https://localhost:8080/",
          "height": 509
        },
        "id": "ZUv6u7qsBEnc",
        "outputId": "6a9f83b2-17c2-44ab-843f-0f23785c805a"
      },
      "execution_count": null,
      "outputs": [
        {
          "output_type": "stream",
          "name": "stderr",
          "text": [
            "/usr/local/lib/python3.7/dist-packages/seaborn/distributions.py:2619: FutureWarning: `distplot` is a deprecated function and will be removed in a future version. Please adapt your code to use either `displot` (a figure-level function with similar flexibility) or `histplot` (an axes-level function for histograms).\n",
            "  warnings.warn(msg, FutureWarning)\n"
          ]
        },
        {
          "output_type": "stream",
          "name": "stdout",
          "text": [
            "Пропущено:\t 12.903 %\n",
            "Мощность:\t 18\n",
            "Среднее:\t 50.944\n",
            "Минимум:\t 39.9\n",
            "Максимум:\t 56.7\n",
            "1 кваниль:\t 48.3\n",
            "Медиана:\t 50.8\n",
            "3 квантиль:\t 55.4\n",
            "Кварт. размах:\t 7.1\n",
            "Стандарт.откл:\t 4.378\n"
          ]
        },
        {
          "output_type": "display_data",
          "data": {
            "text/plain": [
              "<Figure size 432x288 with 1 Axes>"
            ],
            "image/png": "[encoded data removed]"
          },
          "metadata": {
            "needs_background": "light"
          }
        }
      ]
    },
    {
      "cell_type": "code",
      "source": [
        "info_printer(df_less_missing_rows['Рпл. Тек (Карноухов)'])"
      ],
      "metadata": {
        "colab": {
          "base_uri": "https://localhost:8080/",
          "height": 507
        },
        "id": "clqhG-gwBGuS",
        "outputId": "fcbc4193-e2f3-4e8d-8c09-9c8fe53721e0"
      },
      "execution_count": null,
      "outputs": [
        {
          "output_type": "stream",
          "name": "stderr",
          "text": [
            "/usr/local/lib/python3.7/dist-packages/seaborn/distributions.py:2619: FutureWarning: `distplot` is a deprecated function and will be removed in a future version. Please adapt your code to use either `displot` (a figure-level function with similar flexibility) or `histplot` (an axes-level function for histograms).\n",
            "  warnings.warn(msg, FutureWarning)\n"
          ]
        },
        {
          "output_type": "stream",
          "name": "stdout",
          "text": [
            "Пропущено:\t 31.183 %\n",
            "Мощность:\t 13\n",
            "Среднее:\t 50.773\n",
            "Минимум:\t 41.6\n",
            "Максимум:\t 56.8\n",
            "1 кваниль:\t 49.425\n",
            "Медиана:\t 50.9\n",
            "3 квантиль:\t 52.7\n",
            "Кварт. размах:\t 3.275\n",
            "Стандарт.откл:\t 4.007\n"
          ]
        },
        {
          "output_type": "display_data",
          "data": {
            "text/plain": [
              "<Figure size 432x288 with 1 Axes>"
            ],
            "image/png": "[encoded data removed]"
          },
          "metadata": {
            "needs_background": "light"
          }
        }
      ]
    },
    {
      "cell_type": "code",
      "source": [
        "info_printer(df_less_missing_rows['Pсб'])"
      ],
      "metadata": {
        "colab": {
          "base_uri": "https://localhost:8080/",
          "height": 507
        },
        "id": "f9xZonfSBJXC",
        "outputId": "8d43337f-aa12-4c0f-f533-73930dc5cf53"
      },
      "execution_count": null,
      "outputs": [
        {
          "output_type": "stream",
          "name": "stderr",
          "text": [
            "/usr/local/lib/python3.7/dist-packages/seaborn/distributions.py:2619: FutureWarning: `distplot` is a deprecated function and will be removed in a future version. Please adapt your code to use either `displot` (a figure-level function with similar flexibility) or `histplot` (an axes-level function for histograms).\n",
            "  warnings.warn(msg, FutureWarning)\n"
          ]
        },
        {
          "output_type": "stream",
          "name": "stdout",
          "text": [
            "Пропущено:\t 0.0 %\n",
            "Мощность:\t 70\n",
            "Среднее:\t 95.162\n",
            "Минимум:\t 85.5\n",
            "Максимум:\t 104.0\n",
            "1 кваниль:\t 90.7\n",
            "Медиана:\t 94.2\n",
            "3 квантиль:\t 99.8\n",
            "Кварт. размах:\t 9.1\n",
            "Стандарт.откл:\t 5.136\n"
          ]
        },
        {
          "output_type": "display_data",
          "data": {
            "text/plain": [
              "<Figure size 432x288 with 1 Axes>"
            ],
            "image/png": "[encoded data removed]"
          },
          "metadata": {
            "needs_background": "light"
          }
        }
      ]
    },
    {
      "cell_type": "code",
      "source": [
        "info_printer(df_less_missing_rows['Pсб.1'])"
      ],
      "metadata": {
        "colab": {
          "base_uri": "https://localhost:8080/",
          "height": 507
        },
        "id": "amwPckIOBLuT",
        "outputId": "abacff92-bd30-402d-b24f-98952f803724"
      },
      "execution_count": null,
      "outputs": [
        {
          "output_type": "stream",
          "name": "stderr",
          "text": [
            "/usr/local/lib/python3.7/dist-packages/seaborn/distributions.py:2619: FutureWarning: `distplot` is a deprecated function and will be removed in a future version. Please adapt your code to use either `displot` (a figure-level function with similar flexibility) or `histplot` (an axes-level function for histograms).\n",
            "  warnings.warn(msg, FutureWarning)\n"
          ]
        },
        {
          "output_type": "stream",
          "name": "stdout",
          "text": [
            "Пропущено:\t 0.0 %\n",
            "Мощность:\t 70\n",
            "Среднее:\t 93.918\n",
            "Минимум:\t 84.382\n",
            "Максимум:\t 102.64\n",
            "1 кваниль:\t 89.514\n",
            "Медиана:\t 92.968\n",
            "3 квантиль:\t 98.495\n",
            "Кварт. размах:\t 8.981\n",
            "Стандарт.откл:\t 5.069\n"
          ]
        },
        {
          "output_type": "display_data",
          "data": {
            "text/plain": [
              "<Figure size 432x288 with 1 Axes>"
            ],
            "image/png": "[encoded data removed]"
          },
          "metadata": {
            "needs_background": "light"
          }
        }
      ]
    },
    {
      "cell_type": "code",
      "source": [
        "info_printer(df_less_missing_rows['Ro_c'])"
      ],
      "metadata": {
        "colab": {
          "base_uri": "https://localhost:8080/",
          "height": 508
        },
        "id": "qMdP3gdHBQX7",
        "outputId": "2bf61404-0c0b-404a-9b71-b35653992d7e"
      },
      "execution_count": null,
      "outputs": [
        {
          "output_type": "stream",
          "name": "stderr",
          "text": [
            "/usr/local/lib/python3.7/dist-packages/seaborn/distributions.py:2619: FutureWarning: `distplot` is a deprecated function and will be removed in a future version. Please adapt your code to use either `displot` (a figure-level function with similar flexibility) or `histplot` (an axes-level function for histograms).\n",
            "  warnings.warn(msg, FutureWarning)\n"
          ]
        },
        {
          "output_type": "stream",
          "name": "stdout",
          "text": [
            "Пропущено:\t 0.0 %\n",
            "Мощность:\t 25\n",
            "Среднее:\t 780.848\n",
            "Минимум:\t 186.0\n",
            "Максимум:\t 801.0\n",
            "1 кваниль:\t 782.0\n",
            "Медиана:\t 787.0\n",
            "3 квантиль:\t 793.7\n",
            "Кварт. размах:\t 11.7\n",
            "Стандарт.откл:\t 62.795\n"
          ]
        },
        {
          "output_type": "display_data",
          "data": {
            "text/plain": [
              "<Figure size 432x288 with 1 Axes>"
            ],
            "image/png": "[encoded data removed]"
          },
          "metadata": {
            "needs_background": "light"
          }
        }
      ]
    },
    {
      "cell_type": "code",
      "source": [
        "info_printer(df_less_missing_rows['Удельная плотность газа '])"
      ],
      "metadata": {
        "colab": {
          "base_uri": "https://localhost:8080/",
          "height": 507
        },
        "id": "1e5CSv6VBSuD",
        "outputId": "a6bdfac5-778a-4755-deec-eb0d7aa5c7b3"
      },
      "execution_count": null,
      "outputs": [
        {
          "output_type": "stream",
          "name": "stderr",
          "text": [
            "/usr/local/lib/python3.7/dist-packages/seaborn/distributions.py:2619: FutureWarning: `distplot` is a deprecated function and will be removed in a future version. Please adapt your code to use either `displot` (a figure-level function with similar flexibility) or `histplot` (an axes-level function for histograms).\n",
            "  warnings.warn(msg, FutureWarning)\n"
          ]
        },
        {
          "output_type": "stream",
          "name": "stdout",
          "text": [
            "Пропущено:\t 0.0 %\n",
            "Мощность:\t 21\n",
            "Среднее:\t 0.665\n",
            "Минимум:\t 0.57\n",
            "Максимум:\t 0.685\n",
            "1 кваниль:\t 0.66\n",
            "Медиана:\t 0.667\n",
            "3 квантиль:\t 0.679\n",
            "Кварт. размах:\t 0.019\n",
            "Стандарт.откл:\t 0.02\n"
          ]
        },
        {
          "output_type": "display_data",
          "data": {
            "text/plain": [
              "<Figure size 432x288 with 1 Axes>"
            ],
            "image/png": "[encoded data removed]"
          },
          "metadata": {
            "needs_background": "light"
          }
        }
      ]
    },
    {
      "cell_type": "code",
      "source": [
        "info_printer(df_less_missing_rows['G_total'])"
      ],
      "metadata": {
        "colab": {
          "base_uri": "https://localhost:8080/",
          "height": 508
        },
        "id": "eKqgtsTbBbqU",
        "outputId": "76155acd-3933-4675-8625-5899df10fbb7"
      },
      "execution_count": null,
      "outputs": [
        {
          "output_type": "stream",
          "name": "stderr",
          "text": [
            "/usr/local/lib/python3.7/dist-packages/seaborn/distributions.py:2619: FutureWarning: `distplot` is a deprecated function and will be removed in a future version. Please adapt your code to use either `displot` (a figure-level function with similar flexibility) or `histplot` (an axes-level function for histograms).\n",
            "  warnings.warn(msg, FutureWarning)\n"
          ]
        },
        {
          "output_type": "stream",
          "name": "stdout",
          "text": [
            "Пропущено:\t 75.269 %\n",
            "Мощность:\t 23\n",
            "Среднее:\t 5.742\n",
            "Минимум:\t 2.783\n",
            "Максимум:\t 10.931\n",
            "1 кваниль:\t 4.382\n",
            "Медиана:\t 5.251\n",
            "3 квантиль:\t 6.126\n",
            "Кварт. размах:\t 1.744\n",
            "Стандарт.откл:\t 2.113\n"
          ]
        },
        {
          "output_type": "display_data",
          "data": {
            "text/plain": [
              "<Figure size 432x288 with 1 Axes>"
            ],
            "image/png": "[encoded data removed]"
          },
          "metadata": {
            "needs_background": "light"
          }
        }
      ]
    },
    {
      "cell_type": "code",
      "source": [
        "info_printer(df_less_missing_rows['КГФ'])"
      ],
      "metadata": {
        "colab": {
          "base_uri": "https://localhost:8080/",
          "height": 507
        },
        "id": "vJoXlLRjBd1i",
        "outputId": "37fbbe26-757a-42f8-ede7-540b2741d85d"
      },
      "execution_count": null,
      "outputs": [
        {
          "output_type": "stream",
          "name": "stderr",
          "text": [
            "/usr/local/lib/python3.7/dist-packages/seaborn/distributions.py:2619: FutureWarning: `distplot` is a deprecated function and will be removed in a future version. Please adapt your code to use either `displot` (a figure-level function with similar flexibility) or `histplot` (an axes-level function for histograms).\n",
            "  warnings.warn(msg, FutureWarning)\n"
          ]
        },
        {
          "output_type": "stream",
          "name": "stdout",
          "text": [
            "Пропущено:\t 0.0 %\n",
            "Мощность:\t 72\n",
            "Среднее:\t 0.202\n",
            "Минимум:\t 0.131\n",
            "Максимум:\t 0.385\n",
            "1 кваниль:\t 0.164\n",
            "Медиана:\t 0.192\n",
            "3 квантиль:\t 0.224\n",
            "Кварт. размах:\t 0.06\n",
            "Стандарт.откл:\t 0.049\n"
          ]
        },
        {
          "output_type": "display_data",
          "data": {
            "text/plain": [
              "<Figure size 432x288 with 1 Axes>"
            ],
            "image/png": "[encoded data removed]"
          },
          "metadata": {
            "needs_background": "light"
          }
        }
      ]
    },
    {
      "cell_type": "code",
      "source": [
        "for col in df_less_missing_rows.columns:\n",
        "    pct_missing = np.mean(df_less_missing_rows[col].isnull())\n",
        "    print('{} - {}%'.format(col, round(pct_missing*100)))"
      ],
      "metadata": {
        "colab": {
          "base_uri": "https://localhost:8080/"
        },
        "id": "WfYtmVD94FSV",
        "outputId": "b2a98cbd-f6f4-4fbb-9a8b-360bd2119f4a"
      },
      "execution_count": 27,
      "outputs": [
        {
          "output_type": "stream",
          "name": "stdout",
          "text": [
            "Глубина манометра - 3%\n",
            "Dшт - 0%\n",
            "Руст - 0%\n",
            "Рзаб - 3%\n",
            "Pлин - 0%\n",
            "Руст.1 - 0%\n",
            "Рзаб.1 - 3%\n",
            "Рлин - 0%\n",
            "Туст - 0%\n",
            "Тна шлейфе - 35%\n",
            "Тзаб - 3%\n",
            "Tлин - 0%\n",
            "Дебит газа - 0%\n",
            "Дебит ст. конд. - 0%\n",
            "Дебит воды - 0%\n",
            "Дебит смеси - 4%\n",
            "Дебит гааз - 0%\n",
            "Дебит кон нестабильный - 0%\n",
            "Дебит воды.1 - 0%\n",
            "Нэф - 0%\n",
            "Рпл. Тек (послед точка на КВД) - 5%\n",
            "Рпл. Тек (Расчет по КВД) - 13%\n",
            "Рпл. Тек (Карноухов) - 31%\n",
            "Pсб - 0%\n",
            "Pсб.1 - 0%\n",
            "Ro_c - 0%\n",
            "Удельная плотность газа  - 0%\n",
            "G_total - 75%\n",
            "КГФ - 0%\n"
          ]
        }
      ]
    },
    {
      "cell_type": "code",
      "source": [
        "for i in range(df_less_missing_rows.shape[1]-3, -1, -1):\n",
        "    if df_less_missing_rows[df_less_missing_rows.columns[i]].isna().sum() / df_less_missing_rows[df_less_missing_rows.columns[i]].size > 0.61:\n",
        "        df_less_missing_rows = df_less_missing_rows.drop(df_less_missing_rows.columns[i], axis = 1)\n",
        "df_less_missing_rows = df_less_missing_rows.drop(\"Ro_c\", axis = 1)"
      ],
      "metadata": {
        "id": "vYjQB3Un2paQ"
      },
      "execution_count": 11,
      "outputs": []
    },
    {
      "cell_type": "code",
      "source": [
        "df_less_missing_rows.head()"
      ],
      "metadata": {
        "colab": {
          "base_uri": "https://localhost:8080/",
          "height": 456
        },
        "id": "b0QFGslT13bP",
        "outputId": "d4db7ce9-bb1b-484c-87ea-398ec32229c6"
      },
      "execution_count": 12,
      "outputs": [
        {
          "output_type": "execute_result",
          "data": {
            "text/plain": [
              "           Глубина манометра    Dшт   Руст   Рзаб   Pлин  Руст.1 Рзаб.1  \\\n",
              "2008-06-05            3576.3   7.94  249.6  370.1  101.8   249.0  359.6   \n",
              "2008-06-06            3576.3   9.53  233.5  364.6  101.3   231.0  338.1   \n",
              "2008-06-07            3576.3  11.11  213.4  357.1  101.6   211.0  314.8   \n",
              "2008-06-08            3576.3  12.70  191.6  347.4   98.4   187.0  291.5   \n",
              "2008-06-09            3576.3  14.29  171.9  337.7   99.2   169.0  270.3   \n",
              "\n",
              "             Рлин  Туст Тна шлейфе  ... Дебит воды.1   Нэф  \\\n",
              "2008-06-05  101.8  53.0       31.7  ...          0.4  56.8   \n",
              "2008-06-06  102.4  58.8       37.6  ...          1.4  56.8   \n",
              "2008-06-07  100.6  63.6       42.8  ...          1.9  56.8   \n",
              "2008-06-08     99  64.7       46.2  ...          3.3  56.8   \n",
              "2008-06-09   99.5  64.0       49.4  ...          4.7  56.8   \n",
              "\n",
              "            Рпл. Тек (послед точка на КВД)  Рпл. Тек (Расчет по КВД)  \\\n",
              "2008-06-05                           45.25                      56.5   \n",
              "2008-06-06                           45.25                      56.5   \n",
              "2008-06-07                           45.25                      56.5   \n",
              "2008-06-08                           45.25                      56.5   \n",
              "2008-06-09                           45.25                      56.5   \n",
              "\n",
              "            Рпл. Тек (Карноухов)   Pсб      Pсб.1 Удельная плотность газа   \\\n",
              "2008-06-05                   NaN  93.6  92.376018                 0.669449   \n",
              "2008-06-06                   NaN  92.9  91.685171                 0.669449   \n",
              "2008-06-07                   NaN  91.4  90.204787                 0.669449   \n",
              "2008-06-08                   NaN  89.2  88.033555                 0.669449   \n",
              "2008-06-09                   NaN  89.7  88.527017                 0.669449   \n",
              "\n",
              "             G_total       КГФ  \n",
              "2008-06-05  2.782623  0.311909  \n",
              "2008-06-06  3.697781  0.288600  \n",
              "2008-06-07  4.515073  0.248791  \n",
              "2008-06-08  5.217673  0.223559  \n",
              "2008-06-09  5.765092  0.215149  \n",
              "\n",
              "[5 rows x 28 columns]"
            ],
            "text/html": [
              "\n",
              "  <div id=\"df-f02eff3a-4106-41fc-be5b-63ccf51d0076\">\n",
              "    <div class=\"colab-df-container\">\n",
              "      <div>\n",
              "<style scoped>\n",
              "    .dataframe tbody tr th:only-of-type {\n",
              "        vertical-align: middle;\n",
              "    }\n",
              "\n",
              "    .dataframe tbody tr th {\n",
              "        vertical-align: top;\n",
              "    }\n",
              "\n",
              "    .dataframe thead th {\n",
              "        text-align: right;\n",
              "    }\n",
              "</style>\n",
              "<table border=\"1\" class=\"dataframe\">\n",
              "  <thead>\n",
              "    <tr style=\"text-align: right;\">\n",
              "      <th></th>\n",
              "      <th>Глубина манометра</th>\n",
              "      <th>Dшт</th>\n",
              "      <th>Руст</th>\n",
              "      <th>Рзаб</th>\n",
              "      <th>Pлин</th>\n",
              "      <th>Руст.1</th>\n",
              "      <th>Рзаб.1</th>\n",
              "      <th>Рлин</th>\n",
              "      <th>Туст</th>\n",
              "      <th>Тна шлейфе</th>\n",
              "      <th>...</th>\n",
              "      <th>Дебит воды.1</th>\n",
              "      <th>Нэф</th>\n",
              "      <th>Рпл. Тек (послед точка на КВД)</th>\n",
              "      <th>Рпл. Тек (Расчет по КВД)</th>\n",
              "      <th>Рпл. Тек (Карноухов)</th>\n",
              "      <th>Pсб</th>\n",
              "      <th>Pсб.1</th>\n",
              "      <th>Удельная плотность газа</th>\n",
              "      <th>G_total</th>\n",
              "      <th>КГФ</th>\n",
              "    </tr>\n",
              "  </thead>\n",
              "  <tbody>\n",
              "    <tr>\n",
              "      <th>2008-06-05</th>\n",
              "      <td>3576.3</td>\n",
              "      <td>7.94</td>\n",
              "      <td>249.6</td>\n",
              "      <td>370.1</td>\n",
              "      <td>101.8</td>\n",
              "      <td>249.0</td>\n",
              "      <td>359.6</td>\n",
              "      <td>101.8</td>\n",
              "      <td>53.0</td>\n",
              "      <td>31.7</td>\n",
              "      <td>...</td>\n",
              "      <td>0.4</td>\n",
              "      <td>56.8</td>\n",
              "      <td>45.25</td>\n",
              "      <td>56.5</td>\n",
              "      <td>NaN</td>\n",
              "      <td>93.6</td>\n",
              "      <td>92.376018</td>\n",
              "      <td>0.669449</td>\n",
              "      <td>2.782623</td>\n",
              "      <td>0.311909</td>\n",
              "    </tr>\n",
              "    <tr>\n",
              "      <th>2008-06-06</th>\n",
              "      <td>3576.3</td>\n",
              "      <td>9.53</td>\n",
              "      <td>233.5</td>\n",
              "      <td>364.6</td>\n",
              "      <td>101.3</td>\n",
              "      <td>231.0</td>\n",
              "      <td>338.1</td>\n",
              "      <td>102.4</td>\n",
              "      <td>58.8</td>\n",
              "      <td>37.6</td>\n",
              "      <td>...</td>\n",
              "      <td>1.4</td>\n",
              "      <td>56.8</td>\n",
              "      <td>45.25</td>\n",
              "      <td>56.5</td>\n",
              "      <td>NaN</td>\n",
              "      <td>92.9</td>\n",
              "      <td>91.685171</td>\n",
              "      <td>0.669449</td>\n",
              "      <td>3.697781</td>\n",
              "      <td>0.288600</td>\n",
              "    </tr>\n",
              "    <tr>\n",
              "      <th>2008-06-07</th>\n",
              "      <td>3576.3</td>\n",
              "      <td>11.11</td>\n",
              "      <td>213.4</td>\n",
              "      <td>357.1</td>\n",
              "      <td>101.6</td>\n",
              "      <td>211.0</td>\n",
              "      <td>314.8</td>\n",
              "      <td>100.6</td>\n",
              "      <td>63.6</td>\n",
              "      <td>42.8</td>\n",
              "      <td>...</td>\n",
              "      <td>1.9</td>\n",
              "      <td>56.8</td>\n",
              "      <td>45.25</td>\n",
              "      <td>56.5</td>\n",
              "      <td>NaN</td>\n",
              "      <td>91.4</td>\n",
              "      <td>90.204787</td>\n",
              "      <td>0.669449</td>\n",
              "      <td>4.515073</td>\n",
              "      <td>0.248791</td>\n",
              "    </tr>\n",
              "    <tr>\n",
              "      <th>2008-06-08</th>\n",
              "      <td>3576.3</td>\n",
              "      <td>12.70</td>\n",
              "      <td>191.6</td>\n",
              "      <td>347.4</td>\n",
              "      <td>98.4</td>\n",
              "      <td>187.0</td>\n",
              "      <td>291.5</td>\n",
              "      <td>99</td>\n",
              "      <td>64.7</td>\n",
              "      <td>46.2</td>\n",
              "      <td>...</td>\n",
              "      <td>3.3</td>\n",
              "      <td>56.8</td>\n",
              "      <td>45.25</td>\n",
              "      <td>56.5</td>\n",
              "      <td>NaN</td>\n",
              "      <td>89.2</td>\n",
              "      <td>88.033555</td>\n",
              "      <td>0.669449</td>\n",
              "      <td>5.217673</td>\n",
              "      <td>0.223559</td>\n",
              "    </tr>\n",
              "    <tr>\n",
              "      <th>2008-06-09</th>\n",
              "      <td>3576.3</td>\n",
              "      <td>14.29</td>\n",
              "      <td>171.9</td>\n",
              "      <td>337.7</td>\n",
              "      <td>99.2</td>\n",
              "      <td>169.0</td>\n",
              "      <td>270.3</td>\n",
              "      <td>99.5</td>\n",
              "      <td>64.0</td>\n",
              "      <td>49.4</td>\n",
              "      <td>...</td>\n",
              "      <td>4.7</td>\n",
              "      <td>56.8</td>\n",
              "      <td>45.25</td>\n",
              "      <td>56.5</td>\n",
              "      <td>NaN</td>\n",
              "      <td>89.7</td>\n",
              "      <td>88.527017</td>\n",
              "      <td>0.669449</td>\n",
              "      <td>5.765092</td>\n",
              "      <td>0.215149</td>\n",
              "    </tr>\n",
              "  </tbody>\n",
              "</table>\n",
              "<p>5 rows × 28 columns</p>\n",
              "</div>\n",
              "      <button class=\"colab-df-convert\" onclick=\"convertToInteractive('df-f02eff3a-4106-41fc-be5b-63ccf51d0076')\"\n",
              "              title=\"Convert this dataframe to an interactive table.\"\n",
              "              style=\"display:none;\">\n",
              "        \n",
              "  <svg xmlns=\"http://www.w3.org/2000/svg\" height=\"24px\"viewBox=\"0 0 24 24\"\n",
              "       width=\"24px\">\n",
              "    <path d=\"M0 0h24v24H0V0z\" fill=\"none\"/>\n",
              "    <path d=\"M18.56 5.44l.94 2.06.94-2.06 2.06-.94-2.06-.94-.94-2.06-.94 2.06-2.06.94zm-11 1L8.5 8.5l.94-2.06 2.06-.94-2.06-.94L8.5 2.5l-.94 2.06-2.06.94zm10 10l.94 2.06.94-2.06 2.06-.94-2.06-.94-.94-2.06-.94 2.06-2.06.94z\"/><path d=\"M17.41 7.96l-1.37-1.37c-.4-.4-.92-.59-1.43-.59-.52 0-1.04.2-1.43.59L10.3 9.45l-7.72 7.72c-.78.78-.78 2.05 0 2.83L4 21.41c.39.39.9.59 1.41.59.51 0 1.02-.2 1.41-.59l7.78-7.78 2.81-2.81c.8-.78.8-2.07 0-2.86zM5.41 20L4 18.59l7.72-7.72 1.47 1.35L5.41 20z\"/>\n",
              "  </svg>\n",
              "      </button>\n",
              "      \n",
              "  <style>\n",
              "    .colab-df-container {\n",
              "      display:flex;\n",
              "      flex-wrap:wrap;\n",
              "      gap: 12px;\n",
              "    }\n",
              "\n",
              "    .colab-df-convert {\n",
              "      background-color: #E8F0FE;\n",
              "      border: none;\n",
              "      border-radius: 50%;\n",
              "      cursor: pointer;\n",
              "      display: none;\n",
              "      fill: #1967D2;\n",
              "      height: 32px;\n",
              "      padding: 0 0 0 0;\n",
              "      width: 32px;\n",
              "    }\n",
              "\n",
              "    .colab-df-convert:hover {\n",
              "      background-color: #E2EBFA;\n",
              "      box-shadow: 0px 1px 2px rgba(60, 64, 67, 0.3), 0px 1px 3px 1px rgba(60, 64, 67, 0.15);\n",
              "      fill: #174EA6;\n",
              "    }\n",
              "\n",
              "    [theme=dark] .colab-df-convert {\n",
              "      background-color: #3B4455;\n",
              "      fill: #D2E3FC;\n",
              "    }\n",
              "\n",
              "    [theme=dark] .colab-df-convert:hover {\n",
              "      background-color: #434B5C;\n",
              "      box-shadow: 0px 1px 3px 1px rgba(0, 0, 0, 0.15);\n",
              "      filter: drop-shadow(0px 1px 2px rgba(0, 0, 0, 0.3));\n",
              "      fill: #FFFFFF;\n",
              "    }\n",
              "  </style>\n",
              "\n",
              "      <script>\n",
              "        const buttonEl =\n",
              "          document.querySelector('#df-f02eff3a-4106-41fc-be5b-63ccf51d0076 button.colab-df-convert');\n",
              "        buttonEl.style.display =\n",
              "          google.colab.kernel.accessAllowed ? 'block' : 'none';\n",
              "\n",
              "        async function convertToInteractive(key) {\n",
              "          const element = document.querySelector('#df-f02eff3a-4106-41fc-be5b-63ccf51d0076');\n",
              "          const dataTable =\n",
              "            await google.colab.kernel.invokeFunction('convertToInteractive',\n",
              "                                                     [key], {});\n",
              "          if (!dataTable) return;\n",
              "\n",
              "          const docLinkHtml = 'Like what you see? Visit the ' +\n",
              "            '<a target=\"_blank\" href=https://colab.research.google.com/notebooks/data_table.ipynb>data table notebook</a>'\n",
              "            + ' to learn more about interactive tables.';\n",
              "          element.innerHTML = '';\n",
              "          dataTable['output_type'] = 'display_data';\n",
              "          await google.colab.output.renderOutput(dataTable, element);\n",
              "          const docLink = document.createElement('div');\n",
              "          docLink.innerHTML = docLinkHtml;\n",
              "          element.appendChild(docLink);\n",
              "        }\n",
              "      </script>\n",
              "    </div>\n",
              "  </div>\n",
              "  "
            ]
          },
          "metadata": {},
          "execution_count": 12
        }
      ]
    },
    {
      "cell_type": "code",
      "source": [
        "X = df_less_missing_rows[df_less_missing_rows.columns[:-2]].fillna(-100)\n",
        "y = df_less_missing_rows[df_less_missing_rows.columns[-2:]].fillna(-100)"
      ],
      "metadata": {
        "id": "SQiT7d1mwhwj"
      },
      "execution_count": 13,
      "outputs": []
    },
    {
      "cell_type": "code",
      "source": [
        "rg = RandomForestRegressor()\n",
        "rg.fit(X, y)\n",
        "rg.feature_importances_"
      ],
      "metadata": {
        "colab": {
          "base_uri": "https://localhost:8080/"
        },
        "id": "tTE3y7v42Lr8",
        "outputId": "46a87cd4-fc8c-4d96-82a4-a91554b05cad"
      },
      "execution_count": 14,
      "outputs": [
        {
          "output_type": "execute_result",
          "data": {
            "text/plain": [
              "array([8.78084894e-04, 1.42935629e-03, 2.12351390e-03, 1.94843107e-03,\n",
              "       2.01760148e-02, 1.22053685e-06, 3.29977070e-03, 9.30069365e-03,\n",
              "       9.14584501e-04, 1.62121753e-03, 2.42637085e-02, 5.68284351e-03,\n",
              "       5.72434396e-05, 2.84954376e-02, 7.07481496e-04, 2.13116136e-03,\n",
              "       1.90623469e-03, 5.72018544e-04, 2.43104940e-05, 1.57599860e-03,\n",
              "       8.43165315e-01, 2.67432121e-02, 1.52336952e-07, 1.33996239e-06,\n",
              "       7.04730910e-07, 2.29799493e-02])"
            ]
          },
          "metadata": {},
          "execution_count": 14
        }
      ]
    },
    {
      "cell_type": "code",
      "source": [
        "plt.figure(figsize=(13,13))\n",
        "plt.bar(X.columns, rg.feature_importances_)\n",
        "plt.xticks(rotation=90)"
      ],
      "metadata": {
        "colab": {
          "base_uri": "https://localhost:8080/",
          "height": 1000
        },
        "id": "jZkY9ytI2Tk3",
        "outputId": "7d5edf5e-7935-4f4d-850d-ac8839ed4f3d"
      },
      "execution_count": 15,
      "outputs": [
        {
          "output_type": "execute_result",
          "data": {
            "text/plain": [
              "([0,\n",
              "  1,\n",
              "  2,\n",
              "  3,\n",
              "  4,\n",
              "  5,\n",
              "  6,\n",
              "  7,\n",
              "  8,\n",
              "  9,\n",
              "  10,\n",
              "  11,\n",
              "  12,\n",
              "  13,\n",
              "  14,\n",
              "  15,\n",
              "  16,\n",
              "  17,\n",
              "  18,\n",
              "  19,\n",
              "  20,\n",
              "  21,\n",
              "  22,\n",
              "  23,\n",
              "  24,\n",
              "  25],\n",
              " <a list of 26 Text major ticklabel objects>)"
            ]
          },
          "metadata": {},
          "execution_count": 15
        },
        {
          "output_type": "display_data",
          "data": {
            "text/plain": [
              "<Figure size 936x936 with 1 Axes>"
            ],
            "image/png": "[encoded data removed]"
          },
          "metadata": {
            "needs_background": "light"
          }
        }
      ]
    }
  ]
}